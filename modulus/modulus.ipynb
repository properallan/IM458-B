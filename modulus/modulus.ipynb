{
  "nbformat": 4,
  "nbformat_minor": 0,
  "metadata": {
    "colab": {
      "name": "modulus.ipynb",
      "provenance": [],
      "authorship_tag": "ABX9TyM0cL4Tq7jd1GLmj/RP1jVf",
      "include_colab_link": true
    },
    "kernelspec": {
      "name": "python3",
      "display_name": "Python 3"
    },
    "language_info": {
      "name": "python"
    },
    "accelerator": "GPU"
  },
  "cells": [
    {
      "cell_type": "markdown",
      "metadata": {
        "id": "view-in-github",
        "colab_type": "text"
      },
      "source": [
        "<a href=\"https://colab.research.google.com/github/properallan/IM458-B/blob/master/modulus/modulus.ipynb\" target=\"_parent\"><img src=\"https://colab.research.google.com/assets/colab-badge.svg\" alt=\"Open In Colab\"/></a>"
      ]
    },
    {
      "cell_type": "code",
      "source": [
        "# instal pyhton dependencies\n",
        "!pip3 install matplotlib transforms3d future typing numpy quadpy\\\n",
        "             numpy-stl==2.11.2 h5py termcolor psutil\\\n",
        "             symengine==0.6.1 numba Cython chaospy torch_optimizer\\\n",
        "             vtk chaospy termcolor omegaconf hydra-core einops\\\n",
        "             timm tensorboard pandas orthopy ndim sympy==1.5.1 "
      ],
      "metadata": {
        "id": "DV-AN6rUYrQC"
      },
      "execution_count": null,
      "outputs": []
    },
    {
      "cell_type": "code",
      "source": [
        "# Donwload  and extract bare metal NVIDIA modulus install files\n",
        "!pip install gdown\n",
        "!gdown https://drive.google.com/uc?id=16AROpBMiKUpIluRAJx6LPkyK-DzTuIwn\n",
        "!tar -xvzf /content/Modulus_source.tar.gz"
      ],
      "metadata": {
        "id": "AVwV9t4-hXmZ"
      },
      "execution_count": null,
      "outputs": []
    },
    {
      "cell_type": "code",
      "source": [
        "# Install NVIDIA modulus\n",
        "%cd /content/Modulus/\n",
        "!python setup.py install"
      ],
      "metadata": {
        "id": "844ZrzYMli8G"
      },
      "execution_count": null,
      "outputs": []
    },
    {
      "cell_type": "code",
      "source": [
        "# Only necessary if using STL point cloud generation\n",
        "#!export LD_LIBRARY_PATH=$(pwd)/external/lib/:${LD_LIBRARY_PATH}\n",
        "#%cd ./external/eggs\n",
        "#!sudo apt-get install python3-pip\n",
        "#!python -m easy_install pysdf-0.1-py3.8-linux-x86_64.egg"
      ],
      "metadata": {
        "id": "cVEVcXU7n53D"
      },
      "execution_count": null,
      "outputs": []
    },
    {
      "cell_type": "code",
      "source": [
        "# Download and extract NVIDIA modulus examples\n",
        "!gdown https://drive.google.com/uc?id=1yML6s7vMfTuLJl9G625cf87Oo8LnILWp\n",
        "!tar -xvzf /content/Modulus/Modulus_examples.tar.gz"
      ],
      "metadata": {
        "id": "VL_6-tQ8pkEA"
      },
      "execution_count": null,
      "outputs": []
    },
    {
      "cell_type": "code",
      "source": [
        "# Restart runtime, needed to be able to import modulus \n",
        "exit()"
      ],
      "metadata": {
        "id": "0gciYQ3Mzcdp"
      },
      "execution_count": null,
      "outputs": []
    },
    {
      "cell_type": "markdown",
      "source": [
        "You can import NVIDIA modulus just like any other python *package*"
      ],
      "metadata": {
        "id": "iRWzh93A2FWr"
      }
    },
    {
      "cell_type": "code",
      "source": [
        "import modulus"
      ],
      "metadata": {
        "id": "D9tw6Y6b2phe"
      },
      "execution_count": null,
      "outputs": []
    },
    {
      "cell_type": "markdown",
      "source": [
        "Otherwise, you can run a python script like ones provided in the `/content/Modulus/examples` folder. E.g.: Uncomment the following lines to run the Helmholtz example"
      ],
      "metadata": {
        "id": "3COEaNQc19-w"
      }
    },
    {
      "cell_type": "code",
      "source": [
        "#%cd /content/Modulus/examples/helmholtz/\n",
        "#!python helmholtz.py"
      ],
      "metadata": {
        "id": "8Lqu5lTizn-p"
      },
      "execution_count": null,
      "outputs": []
    }
  ]
}