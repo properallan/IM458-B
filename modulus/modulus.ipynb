{
  "cells": [
    {
      "cell_type": "markdown",
      "metadata": {
        "colab_type": "text",
        "id": "view-in-github"
      },
      "source": [
        "<a href=\"https://colab.research.google.com/github/properallan/IM458-B/blob/master/modulus/modulus.ipynb\" target=\"_parent\"><img src=\"https://colab.research.google.com/assets/colab-badge.svg\" alt=\"Open In Colab\"/></a>"
      ]
    },
    {
      "cell_type": "code",
      "execution_count": null,
      "metadata": {
        "id": "DV-AN6rUYrQC"
      },
      "outputs": [],
      "source": [
        "# first try with modulus\n",
        "# instal pyhton dependencies\n",
        "!pip3 install matplotlib transforms3d future typing numpy quadpy\\\n",
        "             numpy-stl==2.11.2 h5py termcolor psutil\\\n",
        "             symengine==0.6.1 numba Cython chaospy torch_optimizer\\\n",
        "             vtk chaospy termcolor omegaconf hydra-core einops\\\n",
        "             timm tensorboard pandas orthopy ndim sympy==1.5.1 "
      ]
    },
    {
      "cell_type": "code",
      "execution_count": null,
      "metadata": {
        "id": "AVwV9t4-hXmZ"
      },
      "outputs": [],
      "source": [
        "# Donwload  and extract bare metal NVIDIA modulus install files\n",
        "!pip install gdown\n",
        "!gdown https://drive.google.com/uc?id=16AROpBMiKUpIluRAJx6LPkyK-DzTuIwn\n",
        "!tar -xvzf /content/Modulus_source.tar.gz"
      ]
    },
    {
      "cell_type": "code",
      "execution_count": null,
      "metadata": {
        "id": "844ZrzYMli8G"
      },
      "outputs": [],
      "source": [
        "# Install NVIDIA modulus\n",
        "%cd /content/Modulus/\n",
        "!python setup.py install"
      ]
    },
    {
      "cell_type": "code",
      "execution_count": null,
      "metadata": {
        "id": "cVEVcXU7n53D"
      },
      "outputs": [],
      "source": [
        "# Only necessary if using STL point cloud generation\n",
        "#!export LD_LIBRARY_PATH=$(pwd)/external/lib/:${LD_LIBRARY_PATH}\n",
        "#%cd ./external/eggs\n",
        "#!sudo apt-get install python3-pip\n",
        "#!python -m easy_install pysdf-0.1-py3.8-linux-x86_64.egg"
      ]
    },
    {
      "cell_type": "code",
      "execution_count": null,
      "metadata": {
        "id": "VL_6-tQ8pkEA"
      },
      "outputs": [],
      "source": [
        "# Download and extract NVIDIA modulus examples\n",
        "!gdown https://drive.google.com/uc?id=1yML6s7vMfTuLJl9G625cf87Oo8LnILWp\n",
        "!tar -xvzf /content/Modulus/Modulus_examples.tar.gz"
      ]
    },
    {
      "cell_type": "code",
      "execution_count": null,
      "metadata": {
        "id": "0gciYQ3Mzcdp"
      },
      "outputs": [],
      "source": [
        "# Restart runtime, needed to be able to import modulus \n",
        "exit()"
      ]
    },
    {
      "cell_type": "markdown",
      "metadata": {
        "id": "iRWzh93A2FWr"
      },
      "source": [
        "You can import NVIDIA modulus just like any other python *package*"
      ]
    },
    {
      "cell_type": "code",
      "execution_count": null,
      "metadata": {
        "id": "D9tw6Y6b2phe"
      },
      "outputs": [],
      "source": [
        "import modulus"
      ]
    },
    {
      "cell_type": "markdown",
      "metadata": {
        "id": "3COEaNQc19-w"
      },
      "source": [
        "Otherwise, you can run a python script like ones provided in the `/content/Modulus/examples` folder. E.g.: Uncomment the following lines to run the Helmholtz example"
      ]
    },
    {
      "cell_type": "code",
      "execution_count": null,
      "metadata": {
        "id": "8Lqu5lTizn-p"
      },
      "outputs": [],
      "source": [
        "#%cd /content/Modulus/examples/helmholtz/\n",
        "#!python helmholtz.py"
      ]
    }
  ],
  "metadata": {
    "accelerator": "GPU",
    "colab": {
      "authorship_tag": "ABX9TyM0cL4Tq7jd1GLmj/RP1jVf",
      "include_colab_link": true,
      "name": "modulus.ipynb",
      "provenance": []
    },
    "kernelspec": {
      "display_name": "Python 3",
      "name": "python3"
    },
    "language_info": {
      "name": "python"
    }
  },
  "nbformat": 4,
  "nbformat_minor": 0
}
