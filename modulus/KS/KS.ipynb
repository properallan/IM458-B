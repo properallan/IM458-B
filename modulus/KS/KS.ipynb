{
 "cells": [
  {
   "cell_type": "code",
   "execution_count": 1,
   "metadata": {},
   "outputs": [
    {
     "name": "stderr",
     "output_type": "stream",
     "text": [
      "/home/ppiper/miniconda3/lib/python3.9/site-packages/tqdm/auto.py:22: TqdmWarning: IProgress not found. Please update jupyter and ipywidgets. See https://ipywidgets.readthedocs.io/en/stable/user_install.html\n",
      "  from .autonotebook import tqdm as notebook_tqdm\n"
     ]
    }
   ],
   "source": [
    "from sympy import Symbol, Function, Number\n",
    "from modulus.pdes import PDES\n",
    "\n",
    "class KSequation(PDES):\n",
    "    name = \"KSequation\"\n",
    "\n",
    "    def __init__(self, ni=1.0):\n",
    "        x = Symbol(\"x\")\n",
    "        t = Symbol(\"t\")\n",
    "\n",
    "        input_variables = {\"x\": x,\n",
    "                           \"t\": t}\n",
    "\n",
    "        u = Function(\"u\")(*input_variables)\n",
    "\n",
    "        if type(ni) is str:\n",
    "            ni = Function(ni)(*input_variables)\n",
    "        elif type(c) in [float, int]:\n",
    "            ni = Number(ni)\n",
    "\n",
    "        self.equations = {}\n",
    "        self.equations[\"ks_equation\"] = u.diff(t,1) + u*u.diff(x,1) + u.diff(x,2) + u.diff(x,4)\n",
    "\n",
    "        "
   ]
  }
 ],
 "metadata": {
  "interpreter": {
   "hash": "c25544d719d175344236f55a7b30dc3b0a2e294f8af427f95c30844b0f4cb7f6"
  },
  "kernelspec": {
   "display_name": "Python 3.9.12 ('base')",
   "language": "python",
   "name": "python3"
  },
  "language_info": {
   "codemirror_mode": {
    "name": "ipython",
    "version": 3
   },
   "file_extension": ".py",
   "mimetype": "text/x-python",
   "name": "python",
   "nbconvert_exporter": "python",
   "pygments_lexer": "ipython3",
   "version": "3.9.12"
  },
  "orig_nbformat": 4
 },
 "nbformat": 4,
 "nbformat_minor": 2
}
