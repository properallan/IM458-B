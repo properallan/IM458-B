{
 "cells": [
  {
   "cell_type": "markdown",
   "metadata": {},
   "source": [
    "# Building a neural network: step by step"
   ]
  },
  {
   "cell_type": "markdown",
   "metadata": {},
   "source": [
    "In this notebook, we will build a neural network for a regression problem.\n",
    "\n",
    " __We will learn how to:__ \n",
    " \n",
    " - Build the general architecture of a neural network algorithm, including:\n",
    "     - Defining the neural network structure (# of layers, # of hidden units, # of inputs, # of outputs)\n",
    "     - Initializing the model parameters\n",
    "     - Computing the forward propagation step\n",
    "     - Calculating the loss function\n",
    "     - Computing the backward propagation step\n",
    "     - Using an optimization algorithm (gradient descent) to update the model parameters "
   ]
  },
  {
   "cell_type": "markdown",
   "metadata": {},
   "source": [
    "## 1 - Packages\n",
    "\n",
    "Let's first import all the packages that we will need in this notebook.\n",
    "\n",
    " - __Numpy__ is the main package for scientific computing with Python.\n",
    " - __Matplotlib__ is a library to plot graphs in Python."
   ]
  },
  {
   "cell_type": "code",
   "execution_count": 2,
   "metadata": {},
   "outputs": [],
   "source": [
    "import numpy as np\n",
    "import matplotlib.pyplot as plt"
   ]
  },
  {
   "cell_type": "markdown",
   "metadata": {},
   "source": [
    "## 2 - Dataset\n",
    "\n"
   ]
  },
  {
   "cell_type": "code",
   "execution_count": 3,
   "metadata": {},
   "outputs": [],
   "source": [
    "# Training data #\n",
    "X_train = np.linspace(0,1,301,dtype = \"float32\")\n",
    "X_train = np.expand_dims(X_train, axis = 0)\n",
    "Y_train = np.sin(15.0*X_train)"
   ]
  },
  {
   "cell_type": "code",
   "execution_count": 4,
   "metadata": {},
   "outputs": [
    {
     "name": "stdout",
     "output_type": "stream",
     "text": [
      "(1, 301)\n"
     ]
    }
   ],
   "source": [
    "print(X_train.shape)\n",
    "#print(Y_train)"
   ]
  },
  {
   "cell_type": "code",
   "execution_count": 5,
   "metadata": {},
   "outputs": [
    {
     "data": {
      "image/png": "[encoded data removed]",
      "text/plain": [
       "<Figure size 432x288 with 1 Axes>"
      ]
     },
     "metadata": {
      "needs_background": "light"
     },
     "output_type": "display_data"
    }
   ],
   "source": [
    "# Visualize the training data #\n",
    "plt.figure()\n",
    "plt.plot(X_train,Y_train,'ko', markersize = 0.8)\n",
    "plt.xlabel('x')\n",
    "plt.ylabel('y')\n",
    "plt.show()"
   ]
  },
  {
   "cell_type": "markdown",
   "metadata": {},
   "source": [
    "__Our goal is to build a model to fit this data, in other words, we want to find a function $f$ that maps the input ($x$) into the output ($y$)__. "
   ]
  },
  {
   "cell_type": "markdown",
   "metadata": {},
   "source": [
    "## 3 - Neural Network Model\n",
    "\n",
    "Here is an example of a neural network model\n",
    "\n",
    "\n",
    "![NN_representation](./fully_connected.png)\n",
    "\n",
    "__Basically, we are going to use a neural network to learn the appropriate parameters ($W$ and $b$) and features $a$ that provide a mapping of the input data $x$ to the output data $y$ that minimizes a loss function. Usually, this loss function measures the difference between the the predictions $\\hat{y}$ and the desired output $y$.__ \n",
    "\n",
    "\n",
    "### Neural network notation\n",
    "\n",
    "$L$ = number of layers \n",
    "\n",
    "$n^{[l]}$ = number of units in layer $l$ (For example, the input layer $l = 0$ and the output layer $l = L$)  \n",
    "\n",
    "$\\mathbf{W}^{[l]}$ = Weight matrix for layer $l$\n",
    "\n",
    "$\\mathbf{b}^{[l]}$ = Bias vector for layer $l$"
   ]
  },
  {
   "cell_type": "markdown",
   "metadata": {},
   "source": [
    "### 3.1 - Initializing the model parameters\n",
    "\n",
    "We need to initialize the parameters ($\\mathbf{W^{[1]}}$, $\\mathbf{W^{[2]}}$, $\\mathbf{b^{[1]}}$, $\\mathbf{b^{[2]}}$ ) of our model.\n",
    " - Define the weights matrices and bias vector sizes\n",
    "  - The matrix $\\mathbf{W}^{[l]}$ is of size $n^{[l+1]} \\times n^{[l]}$ \n",
    "  - The vector $\\mathbf{b}^{[l]}$ is of size $n^{[l+1]} \\times 1$\n",
    " - We will initialize the weights matrices using Xavier's initialization \n",
    "  -  $\\mathbf{W}^{[l]}$ = random($n^{[l+1]}$,$n^{[l]}$)$\\sqrt{ \\left( \\frac{6}{n^{[l]} + n^{[l+1]}}  \\right)}$\n",
    " - We will initialize the bias vectors as zeros\n",
    "  - $\\mathbf{b}^{[l]}$ = zeros($n^{[l+1]},1$)"
   ]
  },
  {
   "cell_type": "code",
   "execution_count": 6,
   "metadata": {},
   "outputs": [],
   "source": [
    "def initialize_parameters(nn_structure):\n",
    "\n",
    "    parameters = {} # python dictionary containing the parameters\n",
    "    \n",
    "    L = len(nn_structure) - 1 # Number of layers\n",
    "    \n",
    "    for l in range(L):\n",
    "        parameters['W' + str(l+1)] = np.random.randn(nn_structure[l+1],nn_structure[l])*np.sqrt(6.0/(nn_structure[l] + nn_structure[l+1]))\n",
    "        parameters['b' + str(l+1)] = np.zeros((nn_structure[l+1],1))\n",
    "        \n",
    "    return parameters"
   ]
  },
  {
   "cell_type": "code",
   "execution_count": 7,
   "metadata": {},
   "outputs": [
    {
     "name": "stdout",
     "output_type": "stream",
     "text": [
      "W1 = [[ 1.17318414]\n",
      " [-0.22423431]\n",
      " [-0.42435035]\n",
      " [ 0.86522675]\n",
      " [-0.73970761]\n",
      " [ 0.15562861]]\n",
      "b1 = [[0.]\n",
      " [0.]\n",
      " [0.]\n",
      " [0.]\n",
      " [0.]\n",
      " [0.]]\n",
      "W2 = [[-0.05472189  0.300916   -0.96955949  0.69483226  0.57176187  0.31328543]]\n",
      "b2 = [[0.]]\n"
     ]
    }
   ],
   "source": [
    "parameters_test = initialize_parameters([1,6,1])\n",
    "\n",
    "print(\"W1 = \" + str(parameters_test[\"W1\"]))\n",
    "print(\"b1 = \" + str(parameters_test[\"b1\"]))\n",
    "print(\"W2 = \" + str(parameters_test[\"W2\"]))\n",
    "print(\"b2 = \" + str(parameters_test[\"b2\"]))"
   ]
  },
  {
   "cell_type": "markdown",
   "metadata": {},
   "source": [
    "### 3.2 - Forward propagation step\n",
    "\n",
    "Now that we have initialized the parameters, we can perform the forward propagation step as shown in section 3. \n",
    "\n",
    "For all layers $l$:\n",
    "\\begin{equation*}\n",
    "\\mathbf{A}^{[0]} = \\mathbf{X} \\\\\n",
    "\\mathbf{Z}^{[l]} = \\mathbf{W}^{[l]} \\mathbf{A}^{[l-1]} + \\mathbf{b}^{[l]} \\\\\n",
    "\\mathbf{A}^{[l]} = \\sigma(\\mathbf{Z}^{[l]}) \n",
    "\\end{equation*}\n",
    "\n",
    "\n",
    "\n",
    "\n",
    "where $\\sigma$ is the activation function and $\\mathbf{X}$ is the input matrix of size $n^{[0]} \\times m$. There are several available activation functions\n",
    "such as sigmoid, hyperbolic tangent (tanh), rectified linear unit (ReLU), exponential linear unit (ELU)\n",
    "to name a few. In this notebook, we use $\\tanh$ as the activation function. Usually for regression problems, the activation function for the last layer is the identity function $f(z) = z.$"
   ]
  },
  {
   "cell_type": "code",
   "execution_count": 8,
   "metadata": {},
   "outputs": [
    {
     "name": "stdout",
     "output_type": "stream",
     "text": [
      "{'W1': array([[ 1.17318414],\n",
      "       [-0.22423431],\n",
      "       [-0.42435035],\n",
      "       [ 0.86522675],\n",
      "       [-0.73970761],\n",
      "       [ 0.15562861]]), 'b1': array([[0.],\n",
      "       [0.],\n",
      "       [0.],\n",
      "       [0.],\n",
      "       [0.],\n",
      "       [0.]]), 'W2': array([[-0.05472189,  0.300916  , -0.96955949,  0.69483226,  0.57176187,\n",
      "         0.31328543]]), 'b2': array([[0.]])}\n",
      "2\n",
      "(6, 301)\n",
      "(6, 301)\n"
     ]
    }
   ],
   "source": [
    "print(parameters_test)\n",
    "L = len(parameters_test)//2 # Number of layers\n",
    "print(L)\n",
    "Z = {} # Linear function \n",
    "A = {} # Activation function\n",
    "A[str(0)] = X_train # Inicializing the method A[0] = X_train\n",
    "#print(A)\n",
    "l = 0\n",
    "W = parameters_test[\"W\" + str(l+1)] # Weights W\n",
    "b = parameters_test[\"b\" + str(l+1)] # Biases b\n",
    "M = np.dot(W,A[str(l)]) + b # Compute the linear operation \n",
    "N = np.tanh(M) # Compute the non linear operation\n",
    "print(M.shape)\n",
    "print(N.shape)"
   ]
  },
  {
   "cell_type": "code",
   "execution_count": 9,
   "metadata": {},
   "outputs": [],
   "source": [
    "def forward_propagation(parameters,X):\n",
    "    \n",
    "    L = len(parameters)//2 # Number of layers\n",
    "    Z = {} # Linear function \n",
    "    A = {} # Activation function\n",
    "    A[str(0)] = X # Inicializing the method A[0] = X_train\n",
    "    \n",
    "    for l in range(L):\n",
    "        W = parameters[\"W\" + str(l+1)] # Weights W\n",
    "        b = parameters[\"b\" + str(l+1)] # Biases b\n",
    "        Z[str(l+1)] = np.dot(W,A[str(l)]) + b # Compute the linear operation \n",
    "        A[str(l+1)] = np.tanh(Z[str(l+1)]) # Compute the non linear operation \n",
    "        \n",
    "    Y_hat = Z[str(L)] # prediction\n",
    "    \n",
    "    return Y_hat,Z,A"
   ]
  },
  {
   "cell_type": "code",
   "execution_count": 10,
   "metadata": {},
   "outputs": [
    {
     "name": "stdout",
     "output_type": "stream",
     "text": [
      "(1, 301)\n"
     ]
    }
   ],
   "source": [
    "Y_hat_test,Z_test,A_test = forward_propagation(parameters_test,X_train)\n",
    "print(Y_hat_test.shape)"
   ]
  },
  {
   "cell_type": "markdown",
   "metadata": {},
   "source": [
    "### 3.3 - Computing the cost function\n",
    "\n",
    "Given the predictions on all the training examples, we can compute the cost function $J$ as follows:\n",
    "\n",
    "\\begin{equation*}\n",
    "J = \\frac{1}{2m} \\sum\\limits_{i=1}^{n^{[L]}} \\sum\\limits_{j=1}^{m}  (\\hat{\\mathbf{Y}}_{i,j} - \\mathbf{Y}_{i,j})^2\n",
    "\\end{equation*}\n",
    "\n",
    "Where $m$ is the number of training examples and $i$ is the i-th training example. The matrices $\\mathbf{Y}$ and $\\hat{\\mathbf{Y}}$ have size of $n^{[L]} \\times m$."
   ]
  },
  {
   "cell_type": "code",
   "execution_count": 11,
   "metadata": {},
   "outputs": [],
   "source": [
    "def cost_function(Y_hat,Y):\n",
    "    \n",
    "    m = X_train.shape[1]\n",
    "    J = (1.0/(2.0*m))*(np.sum(np.square(Y_hat - Y)))\n",
    "    \n",
    "    return J"
   ]
  },
  {
   "cell_type": "code",
   "execution_count": 12,
   "metadata": {},
   "outputs": [
    {
     "name": "stdout",
     "output_type": "stream",
     "text": [
      "cost = 0.27052294160671314\n"
     ]
    }
   ],
   "source": [
    "J = cost_function(Z_test['2'],Y_train)\n",
    "print(\"cost = \" + str(J))"
   ]
  },
  {
   "cell_type": "markdown",
   "metadata": {},
   "source": [
    "### 3.4 Backward propagation step\n",
    "\n",
    "Gradients of the cost function with respect to each parameter are computed using back-progation. Using the chain rule, it is straightforward to write down algebraic expression for the gradients.\n",
    "\n",
    "Example: Shallow Neural Network (One hidden layer)\n",
    "\n",
    "\\begin{equation*}\n",
    "\\text{Remember} \\hspace 0.2cm  \\mathbf{\\hat{Y}} = A^{[2]} = Z^{[2]}\n",
    "\\end{equation*}\n",
    "\n",
    "\\begin{equation*}\n",
    "L(\\mathbf{A}^{[2]}, \\mathbf{Y}) = \\frac{1}{2m} (\\mathbf{A}^{[2]} -  \\mathbf{Y})^2\n",
    "\\tag{7}\n",
    "\\end{equation*}\n",
    "\n",
    "\\begin{equation*}\n",
    "\\delta\\mathbf{A}^{[2]} = \\frac{\\partial L(\\mathbf{A}^{[2]}, \\mathbf{Y})}{\\partial \\mathbf{A}^{[2]}} = \\frac{1}{m} (\\mathbf{A}^{[2]} -  \\mathbf{Y}) \n",
    "\\tag{8}\n",
    "\\end{equation*}\n",
    "\n",
    "\\begin{equation*}\n",
    "\\delta\\mathbf{Z}^{[2]} = \\frac{\\partial L}{\\partial \\mathbf{Z}^{[2]}} = \\frac{\\partial L}{\\partial \\mathbf{A}^{[2]}} \\frac{\\partial \\mathbf{A}^{[2]}}{\\underbrace{ \\partial \\mathbf{Z}^{[2]}}}_{\\text{= 1}} = \\frac{1}{m} (\\mathbf{A}^{[2]} -  \\mathbf{Y}) \n",
    "\\tag{9}\n",
    "\\end{equation*}\n",
    "\n",
    "\\begin{equation*}\n",
    "\\text{Remember} \\hspace 0.2cm \\mathbf{Z}^{[2]} = \\mathbf{W}^{[2]} \\mathbf{A}^{[1]} + \\mathbf{b}^{[2]}\n",
    "\\end{equation*}\n",
    "\n",
    "\\begin{equation*}\n",
    "\\delta\\mathbf{W}^{[2]} = \\frac{\\partial L}{\\partial \\mathbf{W}^{[2]}} = \\frac{\\partial L}{\\partial \\mathbf{Z}^{[2]}} \\frac{\\partial \\mathbf{Z}^{[2]}}{\\partial \\mathbf{W}^{[2]}} = \\delta\\mathbf{Z}^{[2]} \\mathbf{A}^{[1]T}\n",
    "\\tag{10}\n",
    "\\end{equation*}\n",
    "\n",
    "\\begin{equation*}\n",
    "\\delta\\mathbf{b}^{[2]} = \\frac{\\partial L}{\\partial \\mathbf{b}^{[2]}} = \\frac{\\partial L}{\\partial \\mathbf{Z}^{[2]}} \\underbrace{\\frac{\\partial \\mathbf{Z}^{[2]}}{\\partial \\mathbf{b}^{[2]}}}_{\\text{= 1}}  = \\delta\\mathbf{Z}^{[2]} = \\sum\\limits_{i = 1}^{m}  \\delta\\mathbf{Z}^{[2](i)}\n",
    "\\tag{11}\n",
    "\\end{equation*}\n",
    "\n",
    "\\begin{equation*}\n",
    "\\delta\\mathbf{A}^{[1]} = \\frac{\\partial L}{\\partial \\mathbf{A}^{[1]}} = \\frac{\\partial L}{\\partial \\mathbf{Z}^{[2]}} \\frac{\\partial \\mathbf{Z}^{[2]}}{\\partial \\mathbf{A}^{[1]}} = \\mathbf{W}^{[2]T} \\delta\\mathbf{Z}^{[2]}\n",
    "\\tag{12}\n",
    "\\end{equation*}\n",
    "\n",
    "\\begin{equation*}\n",
    "\\text{Remember} \\hspace 0.2cm A^{[1]} = \\sigma(\\mathbf{Z}^{[1]})\n",
    "\\end{equation*}\n",
    "\n",
    "\\begin{equation*}\n",
    "\\delta\\mathbf{Z}^{[1]} = \\frac{\\partial L}{\\partial \\mathbf{Z}^{[1]}} = \\frac{\\partial L}{\\partial \\mathbf{A}^{[1]}} \\frac{\\partial \\mathbf{A}^{[1]}}{\\partial \\mathbf{Z}^{[1]}} = \\delta\\mathbf{A}^{[1]} \\sigma'(\\mathbf{Z}^{[1]})\n",
    "\\tag{13}\n",
    "\\end{equation*}\n",
    "\n",
    "\\begin{equation*}\n",
    "\\text{Remember} \\hspace 0.2cm \\mathbf{Z}^{[1]} = \\mathbf{W}^{[1]} \\mathbf{A}^{[0]} + \\mathbf{b}^{[1]}\n",
    "\\end{equation*}\n",
    "\n",
    "\\begin{equation*}\n",
    "\\delta\\mathbf{W}^{[1]} = \\frac{\\partial L}{\\partial \\mathbf{W}^{[1]}} = \\frac{\\partial L}{\\partial \\mathbf{Z}^{[1]}} \\frac{\\partial \\mathbf{Z}^{[1]}}{\\partial \\mathbf{W}^{[1]}} = \\delta\\mathbf{Z}^{[1]} \\mathbf{A}^{[0]T}\n",
    "\\tag{14}\n",
    "\\end{equation*}\n",
    "\n",
    "\\begin{equation*}\n",
    "\\delta\\mathbf{b}^{[1]} = \\frac{\\partial L}{\\partial \\mathbf{b}^{[1]}} = \\frac{\\partial L}{\\partial \\mathbf{Z}^{[1]}} \\frac{\\partial \\mathbf{Z}^{[1]}}{\\partial \\mathbf{b}^{[1]}} = \\delta\\mathbf{Z}^{[1]} = \\sum\\limits_{i = 1}^{m}  \\delta\\mathbf{Z}^{[1](i)}\n",
    "\\tag{15}\n",
    "\\end{equation*}\n",
    "\n",
    "__General form__:\n",
    "\n",
    "For the last layer $L$:\n",
    "\\begin{equation*}\n",
    "\\delta\\mathbf{A}^{[L]} =  \\frac{1}{m} (\\hat{\\mathbf{Y}} -  \\mathbf{Y})  \\\\\n",
    "\\delta\\mathbf{Z}^{[L]} = \\delta\\mathbf{A}^{[L]} \\\\\n",
    "\\delta\\mathbf{W}^{[L]} = \\delta\\mathbf{Z}^{[L]} \\cdot \\mathbf{A}^{[L-1]T} \\\\\n",
    "\\delta\\mathbf{b}^{[L]} = \\sum\\limits_{i = 1}^{m}  \\delta\\mathbf{Z}^{[L](i)} \\\\\n",
    "\\end{equation*}\n",
    "\n",
    "For the remaining layers:\n",
    "\\begin{equation*}\n",
    "\\delta\\mathbf{A}^{[l]} = \\mathbf{W}^{[l+1]T} \\cdot \\delta\\mathbf{Z}^{[l+1]} \\\\\n",
    "\\delta\\mathbf{Z}^{[l]} = \\delta\\mathbf{A}^{[l]} * \\sigma'(\\mathbf{Z}^{[l]}) \\\\\n",
    "\\delta\\mathbf{W}^{[l]} = \\delta\\mathbf{Z}^{[l]} \\cdot \\mathbf{A}^{[l-1]T} \\\\\n",
    "\\delta\\mathbf{b}^{[l]} = \\sum\\limits_{i = 1}^{m}  \\delta\\mathbf{Z}^{[l](i)} \\\\\n",
    "\\end{equation*}\n",
    "\n",
    "\n",
    "Where $\\sigma'$ is the derivative of the activation function, if $\\sigma = \\tanh$ then $\\sigma'(z) = 1 - \\tanh^2 (z)$.  "
   ]
  },
  {
   "cell_type": "code",
   "execution_count": 13,
   "metadata": {},
   "outputs": [],
   "source": [
    "def backward_propagation(parameters,Z,A,Y,Y_hat):\n",
    "\n",
    "    m = Y.shape[1] # Number of training examples\n",
    "    L = len(parameters)//2 # Number of layers\n",
    "    \n",
    "    dZ = {} # Derivatives of the linear function Z\n",
    "    dW = {} # Derivatives of the weigths W \n",
    "    db = {} # Derivatives of the biases b\n",
    "    dA = {} # Derivatives of the activation function A\n",
    "    dZ[str(L)] = (1./m) * (Y_hat - Y)\n",
    "    dW[str(L)] = np.dot(dZ[str(L)], A[str(L-1)].T)\n",
    "    db[str(L)] = np.sum(dZ[str(L)], axis=1, keepdims = True)\n",
    "    for l in range(L-1,0,-1):\n",
    "        dA[str(l)] = np.dot(parameters[\"W\" + str(l+1)].T, dZ[str(l+1)])\n",
    "        dZ[str(l)] = np.multiply(dA[str(l)], 1.0 - np.square(np.tanh(Z[str(l)])))\n",
    "        dW[str(l)] = np.dot(dZ[str(l)], A[str(l-1)].T)\n",
    "        db[str(l)] = np.sum(dZ[str(l)], axis=1, keepdims = True)\n",
    "        \n",
    "    return dW,db"
   ]
  },
  {
   "cell_type": "code",
   "execution_count": 14,
   "metadata": {},
   "outputs": [],
   "source": [
    "dW_test, db_test = backward_propagation(parameters_test,Z_test,A_test,Y_train,Y_hat_test)"
   ]
  },
  {
   "cell_type": "markdown",
   "metadata": {},
   "source": [
    "### 3.5 - Update the parameters\n",
    "\n",
    "We will update the parameters of the model, using gradient descent:\n",
    "\n",
    "\\begin{equation*}\n",
    "\\mathbf{W}^{[l]} = \\mathbf{W}^{[l]} - \\eta \\ \\delta\\mathbf{W}^{[l]}\n",
    "\\end{equation*}\n",
    "\n",
    "\\begin{equation*}\n",
    "\\mathbf{b}^{[l]} = \\mathbf{b}^{[l]} - \\eta \\ \\delta\\mathbf{b}^{[l]}\n",
    "\\end{equation*}\n",
    "\n",
    "Where $\\eta$ is the learning rate. "
   ]
  },
  {
   "cell_type": "code",
   "execution_count": 15,
   "metadata": {},
   "outputs": [],
   "source": [
    "def update_parameters(parameters,dW,db,learning_rate):\n",
    "   \n",
    "    L = len(parameters)//2 # Number of layers\n",
    "\n",
    "    for l in range(L):\n",
    "        parameters[\"W\" + str(l+1)] = parameters[\"W\" + str(l+1)] - learning_rate*dW[str(l+1)]\n",
    "        parameters[\"b\" + str(l+1)] = parameters[\"b\" + str(l+1)] - learning_rate*db[str(l+1)]\n",
    "\n",
    "    return parameters"
   ]
  },
  {
   "cell_type": "code",
   "execution_count": 16,
   "metadata": {},
   "outputs": [
    {
     "name": "stdout",
     "output_type": "stream",
     "text": [
      "W1 = [[ 1.17354056]\n",
      " [-0.22728151]\n",
      " [-0.414957  ]\n",
      " [ 0.8596788 ]\n",
      " [-0.74459394]\n",
      " [ 0.15242802]]\n",
      "b1 = [[ 0.00031253]\n",
      " [-0.00353671]\n",
      " [ 0.0106611 ]\n",
      " [-0.00565245]\n",
      " [-0.00518439]\n",
      " [-0.00373125]]\n",
      "W2 = [[-0.06516438  0.30321262 -0.96527599  0.68662335  0.57893288  0.31168679]]\n",
      "b2 = [[-0.01205732]]\n"
     ]
    }
   ],
   "source": [
    "parameters_test = update_parameters(parameters_test,dW_test,db_test,0.1)\n",
    "print (\"W1 = \"+ str(parameters_test[\"W1\"]))\n",
    "print (\"b1 = \"+ str(parameters_test[\"b1\"]))\n",
    "print (\"W2 = \"+ str(parameters_test[\"W2\"]))\n",
    "print (\"b2 = \"+ str(parameters_test[\"b2\"]))"
   ]
  },
  {
   "cell_type": "markdown",
   "metadata": {},
   "source": [
    "## 4 - Merge all functions into a model\n",
    "\n",
    "We will build our neural network model by putting together all the building blocks "
   ]
  },
  {
   "cell_type": "code",
   "execution_count": 17,
   "metadata": {},
   "outputs": [],
   "source": [
    "def model(X_train, Y_train, nn_structure, num_iterations, learning_rate, print_cost=False):\n",
    "    \n",
    "    costs = [] # Keep track of the cost\n",
    "    \n",
    "    # Initialize parameters #\n",
    "    parameters = initialize_parameters(nn_structure)\n",
    "    \n",
    "    # Loop #\n",
    "    for i in range(num_iterations):\n",
    "        \n",
    "        # Forward propagation #\n",
    "        Y_hat,Z,A = forward_propagation(parameters,X_train)\n",
    "        \n",
    "        # Cost function #\n",
    "        cost = cost_function(Y_hat,Y_train)\n",
    "            \n",
    "        # Backward propagation #\n",
    "        dW,db = backward_propagation(parameters,Z,A,Y_train,Y_hat)\n",
    "        \n",
    "        # Update parameters (Gradient descent) #\n",
    "        parameters = update_parameters(parameters,dW,db,learning_rate)\n",
    "        \n",
    "        # Print the cost every 1000 iterations #\n",
    "        if print_cost == True and i % 1000 == 0:\n",
    "            print (\"Cost after iteration %i: %f\" %(i, cost))\n",
    "            costs.append(cost)\n",
    "    \n",
    "    return parameters, costs"
   ]
  },
  {
   "cell_type": "code",
   "execution_count": 74,
   "metadata": {},
   "outputs": [],
   "source": [
    "# Hyperparameters #\n",
    "nn_structure = [1,40,20,10,1] # Neural network structure\n",
    "num_iterations = 40001 # Number of iterations \n",
    "learning_rate = 0.08 # Learning rate"
   ]
  },
  {
   "cell_type": "markdown",
   "metadata": {},
   "source": [
    "For instance, nn_structure = [1,6,1] means that our neural network has a input layer with 1 node, a hidden layer with 6 nodes and a output layer with 1 node."
   ]
  },
  {
   "cell_type": "code",
   "execution_count": 76,
   "metadata": {},
   "outputs": [
    {
     "name": "stdout",
     "output_type": "stream",
     "text": [
      "Cost after iteration 0: 0.411647\n",
      "Cost after iteration 1000: 0.150658\n",
      "Cost after iteration 2000: 0.001471\n",
      "Cost after iteration 3000: 0.000854\n",
      "Cost after iteration 4000: 0.000712\n",
      "Cost after iteration 5000: 0.000643\n",
      "Cost after iteration 6000: 0.000592\n",
      "Cost after iteration 7000: 0.000547\n",
      "Cost after iteration 8000: 0.000507\n",
      "Cost after iteration 9000: 0.000470\n",
      "Cost after iteration 10000: 0.000435\n",
      "Cost after iteration 11000: 0.000402\n",
      "Cost after iteration 12000: 0.000373\n",
      "Cost after iteration 13000: 0.000345\n",
      "Cost after iteration 14000: 0.000320\n",
      "Cost after iteration 15000: 0.000298\n",
      "Cost after iteration 16000: 0.000277\n",
      "Cost after iteration 17000: 0.000258\n",
      "Cost after iteration 18000: 0.000242\n",
      "Cost after iteration 19000: 0.000226\n",
      "Cost after iteration 20000: 0.000212\n",
      "Cost after iteration 21000: 0.000200\n",
      "Cost after iteration 22000: 0.000188\n",
      "Cost after iteration 23000: 0.000177\n",
      "Cost after iteration 24000: 0.000168\n",
      "Cost after iteration 25000: 0.000159\n",
      "Cost after iteration 26000: 0.000151\n",
      "Cost after iteration 27000: 0.000143\n",
      "Cost after iteration 28000: 0.000136\n",
      "Cost after iteration 29000: 0.000130\n",
      "Cost after iteration 30000: 0.000124\n",
      "Cost after iteration 31000: 0.000118\n",
      "Cost after iteration 32000: 0.000113\n",
      "Cost after iteration 33000: 0.000109\n",
      "Cost after iteration 34000: 0.000104\n",
      "Cost after iteration 35000: 0.000100\n",
      "Cost after iteration 36000: 0.000096\n",
      "Cost after iteration 37000: 0.000092\n",
      "Cost after iteration 38000: 0.000089\n",
      "Cost after iteration 39000: 0.000086\n",
      "Cost after iteration 40000: 0.000082\n"
     ]
    }
   ],
   "source": [
    "# Neural network model #\n",
    "parameters, costs = model(X_train, Y_train, nn_structure, num_iterations, learning_rate, print_cost=True)"
   ]
  },
  {
   "cell_type": "markdown",
   "metadata": {},
   "source": [
    "### 5 - Predictions \n",
    "\n",
    "Now, we are going to use the model obtained by the neural network to predict $y$. Basically, we use forward propagation to predict results."
   ]
  },
  {
   "cell_type": "code",
   "execution_count": 77,
   "metadata": {},
   "outputs": [],
   "source": [
    "def predict(parameters,X):\n",
    "    \n",
    "    predictions,_,_ = forward_propagation(parameters,X_train)\n",
    "    \n",
    "    return predictions"
   ]
  },
  {
   "cell_type": "code",
   "execution_count": 78,
   "metadata": {},
   "outputs": [],
   "source": [
    "# Make predictions #\n",
    "predictions = predict(parameters,X_train)"
   ]
  },
  {
   "cell_type": "code",
   "execution_count": 79,
   "metadata": {},
   "outputs": [
    {
     "data": {
      "image/png": "[encoded data removed]",
      "text/plain": [
       "<Figure size 432x288 with 1 Axes>"
      ]
     },
     "metadata": {
      "needs_background": "light"
     },
     "output_type": "display_data"
    }
   ],
   "source": [
    "# Plot results #\n",
    "X_train.shape\n",
    "plt.figure()\n",
    "plt.plot(X_train[0,:],Y_train[0,:],'k') # Training data\n",
    "plt.plot(X_train[0,:],predictions[0,:],'r', lw = 0.8) # Predictions\n",
    "plt.xlabel('x')\n",
    "plt.ylabel('y')\n",
    "plt.show()"
   ]
  },
  {
   "cell_type": "code",
   "execution_count": null,
   "metadata": {},
   "outputs": [],
   "source": []
  }
 ],
 "metadata": {
  "kernelspec": {
   "display_name": "Python 3",
   "language": "python",
   "name": "python3"
  },
  "language_info": {
   "codemirror_mode": {
    "name": "ipython",
    "version": 3
   },
   "file_extension": ".py",
   "mimetype": "text/x-python",
   "name": "python",
   "nbconvert_exporter": "python",
   "pygments_lexer": "ipython3",
   "version": "3.7.6"
  }
 },
 "nbformat": 4,
 "nbformat_minor": 2
}
