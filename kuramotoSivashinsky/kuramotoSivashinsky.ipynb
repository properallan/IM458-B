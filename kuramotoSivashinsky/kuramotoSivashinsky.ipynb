{
  "nbformat": 4,
  "nbformat_minor": 0,
  "metadata": {
    "colab": {
      "name": "kuramotoSivashinsky.ipynb",
      "provenance": [],
      "authorship_tag": "ABX9TyNBT+IkFOTD1waUUbkb+YlA",
      "include_colab_link": true
    },
    "kernelspec": {
      "name": "python3",
      "display_name": "Python 3"
    },
    "language_info": {
      "name": "python"
    }
  },
  "cells": [
    {
      "cell_type": "markdown",
      "metadata": {
        "id": "view-in-github",
        "colab_type": "text"
      },
      "source": [
        "<a href=\"https://colab.research.google.com/github/properallan/IM458-B/blob/master/kuramotoSivashinsky/kuramotoSivashinsky.ipynb\" target=\"_parent\"><img src=\"https://colab.research.google.com/assets/colab-badge.svg\" alt=\"Open In Colab\"/></a>"
      ]
    },
    {
      "cell_type": "code",
      "execution_count": null,
      "metadata": {
        "id": "hlAtw5qLTdHc"
      },
      "outputs": [],
      "source": [
        "!apt install subversion\n",
        "!svn checkout https://github.com/properallan/IM458-B/trunk/kuramotoSivashinsky\n",
        "%cd ./kuramotoSivashinsky"
      ]
    }
  ]
}