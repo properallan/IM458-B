{
  "nbformat": 4,
  "nbformat_minor": 0,
  "metadata": {
    "colab": {
      "name": "kuramotoSivashinsky.ipynb",
      "provenance": [],
      "collapsed_sections": [],
      "authorship_tag": "ABX9TyOc33jjAPo8ITzWkMczXN3B",
      "include_colab_link": true
    },
    "kernelspec": {
      "name": "python3",
      "display_name": "Python 3"
    },
    "language_info": {
      "name": "python"
    }
  },
  "cells": [
    {
      "cell_type": "markdown",
      "metadata": {
        "id": "view-in-github",
        "colab_type": "text"
      },
      "source": [
        "<a href=\"https://colab.research.google.com/github/properallan/IM458-B/blob/master/kuramotoSivashinsky/kuramotoSivashinsky.ipynb\" target=\"_parent\"><img src=\"https://colab.research.google.com/assets/colab-badge.svg\" alt=\"Open In Colab\"/></a>"
      ]
    },
    {
      "cell_type": "code",
      "execution_count": 326,
      "metadata": {
        "id": "hlAtw5qLTdHc",
        "outputId": "2af0edb8-6c80-40ae-e8ca-32198c01f03b",
        "colab": {
          "base_uri": "https://localhost:8080/"
        }
      },
      "outputs": [
        {
          "output_type": "stream",
          "name": "stdout",
          "text": [
            "Reading package lists... Done\n",
            "Building dependency tree       \n",
            "Reading state information... Done\n",
            "subversion is already the newest version (1.9.7-4ubuntu1).\n",
            "0 upgraded, 0 newly installed, 0 to remove and 39 not upgraded.\n",
            "A    kuramotoSivashinsky/0_data_generation.py\n",
            "A    kuramotoSivashinsky/1_creating_figures.py\n",
            "A    kuramotoSivashinsky/2_creating_video.py\n",
            "A    kuramotoSivashinsky/KS.py\n",
            "A    kuramotoSivashinsky/kuramotoSivashinsky.ipynb\n",
            "Checked out revision 18.\n",
            "/content/kuramotoSivashinsky/kuramotoSivashinsky/kuramotoSivashinsky/kuramotoSivashinsky/kuramotoSivashinsky/kuramotoSivashinsky\n"
          ]
        }
      ],
      "source": [
        "!apt install subversion\n",
        "!svn checkout https://github.com/properallan/IM458-B/trunk/kuramotoSivashinsky\n",
        "%cd ./kuramotoSivashinsky"
      ]
    },
    {
      "cell_type": "code",
      "source": [
        "import KS\n",
        "import numpy as np\n",
        "from numpy import pi\n",
        "import matplotlib.pyplot as plt"
      ],
      "metadata": {
        "id": "RHxjBXGJf3bc"
      },
      "execution_count": 327,
      "outputs": []
    },
    {
      "cell_type": "code",
      "source": [
        "# define data and initialize simulation\n",
        "L    = 200/(2*pi)\n",
        "N    = 512\n",
        "N    = 128\n",
        "L    = 16\n",
        "dt   = 0.25\n",
        "ninittransients = 10000\n",
        "tend = 50000 + ninittransients  #50000\n",
        "tend = 6e4\n",
        "tend = 150\n",
        "TL1  = 0.094\n",
        "dns  = KS.KS(L=L, N=N, dt=dt, tend=tend)\n"
      ],
      "metadata": {
        "id": "bWTfdc3pgA5v"
      },
      "execution_count": 328,
      "outputs": []
    },
    {
      "cell_type": "code",
      "source": [
        "# intial conditions\n",
        "dns.IC(u0=np.cos(dns.x/16)*(1+np.sin(dns.x/16)))\n",
        "\n",
        "# simulate initial transient\n",
        "dns.simulate()\n",
        "# convert to physical space\n",
        "dns.fou2real()"
      ],
      "metadata": {
        "id": "Zo-FM5FIg3o5"
      },
      "execution_count": 329,
      "outputs": []
    },
    {
      "cell_type": "code",
      "source": [
        "N_plot = 601\n",
        "N_plot = len(dns.tt)\n",
        "ninit = int(4e4+1e5)\n",
        "ninit = 0\n",
        "u_plot = dns.uu[ninit:ninit+N_plot,:]\n",
        "t_plot = (dns.tt[ninit:ninit+N_plot] - dns.tt[ninit])*TL1\n",
        "t_plot = (dns.tt[ninit:ninit+N_plot] - dns.tt[ninit])\n",
        "# Plotting the contour plot\n",
        "fig = plt.subplots(figsize=(5,5))\n",
        "t, s = np.meshgrid(t_plot, np.array(range(N))+1)\n",
        "t, s = np.meshgrid(t_plot, dns.x)\n",
        "#t, s = np.meshgrid(np.arange(N_plot), np.array(range(N))+1)\n",
        "#plt.contourf(s, t, np.transpose(u_plot), 15, cmap=plt.get_cmap(\"seismic\"), vmin=-3,vmax=3)\n",
        "plt.contourf(s, t, np.transpose(u_plot), 15, cmap=plt.get_cmap(\"autumn\"),shading='auto')\n",
        "plt.colorbar()\n",
        "#plt.ylim([0,10])\n",
        "#plt.xlim([0,512])\n",
        "\n",
        "plt.xlabel(r\"$N$\")\n",
        "plt.ylabel(r\"$t$\")\n",
        "plt.show()\n"
      ],
      "metadata": {
        "id": "JxSF-8i4hyT3",
        "outputId": "4ad00719-8025-4728-e9aa-dcd62c6162fa",
        "colab": {
          "base_uri": "https://localhost:8080/",
          "height": 391
        }
      },
      "execution_count": 330,
      "outputs": [
        {
          "output_type": "stream",
          "name": "stderr",
          "text": [
            "/usr/local/lib/python3.7/dist-packages/ipykernel_launcher.py:14: UserWarning: The following kwargs were not used by contour: 'shading'\n",
            "  \n"
          ]
        },
        {
          "output_type": "display_data",
          "data": {
            "text/plain": [
              "<Figure size 360x360 with 2 Axes>"
            ],
            "image/png": "[encoded data removed]"
          },
          "metadata": {
            "needs_background": "light"
          }
        }
      ]
    },
    {
      "cell_type": "code",
      "source": [
        "dns.x/2/pi"
      ],
      "metadata": {
        "id": "5WWinHV8h1fd",
        "outputId": "c0a2b1da-1626-440a-91f4-7d586dd992c1",
        "colab": {
          "base_uri": "https://localhost:8080/"
        }
      },
      "execution_count": 331,
      "outputs": [
        {
          "output_type": "execute_result",
          "data": {
            "text/plain": [
              "array([ 0.   ,  0.125,  0.25 ,  0.375,  0.5  ,  0.625,  0.75 ,  0.875,\n",
              "        1.   ,  1.125,  1.25 ,  1.375,  1.5  ,  1.625,  1.75 ,  1.875,\n",
              "        2.   ,  2.125,  2.25 ,  2.375,  2.5  ,  2.625,  2.75 ,  2.875,\n",
              "        3.   ,  3.125,  3.25 ,  3.375,  3.5  ,  3.625,  3.75 ,  3.875,\n",
              "        4.   ,  4.125,  4.25 ,  4.375,  4.5  ,  4.625,  4.75 ,  4.875,\n",
              "        5.   ,  5.125,  5.25 ,  5.375,  5.5  ,  5.625,  5.75 ,  5.875,\n",
              "        6.   ,  6.125,  6.25 ,  6.375,  6.5  ,  6.625,  6.75 ,  6.875,\n",
              "        7.   ,  7.125,  7.25 ,  7.375,  7.5  ,  7.625,  7.75 ,  7.875,\n",
              "        8.   ,  8.125,  8.25 ,  8.375,  8.5  ,  8.625,  8.75 ,  8.875,\n",
              "        9.   ,  9.125,  9.25 ,  9.375,  9.5  ,  9.625,  9.75 ,  9.875,\n",
              "       10.   , 10.125, 10.25 , 10.375, 10.5  , 10.625, 10.75 , 10.875,\n",
              "       11.   , 11.125, 11.25 , 11.375, 11.5  , 11.625, 11.75 , 11.875,\n",
              "       12.   , 12.125, 12.25 , 12.375, 12.5  , 12.625, 12.75 , 12.875,\n",
              "       13.   , 13.125, 13.25 , 13.375, 13.5  , 13.625, 13.75 , 13.875,\n",
              "       14.   , 14.125, 14.25 , 14.375, 14.5  , 14.625, 14.75 , 14.875,\n",
              "       15.   , 15.125, 15.25 , 15.375, 15.5  , 15.625, 15.75 , 15.875])"
            ]
          },
          "metadata": {},
          "execution_count": 331
        }
      ]
    },
    {
      "cell_type": "code",
      "source": [
        "dns.N"
      ],
      "metadata": {
        "id": "GKy__v7Yw_3Q",
        "outputId": "dcc33c71-f036-4cf9-fe5e-3f98cbcfce67",
        "colab": {
          "base_uri": "https://localhost:8080/"
        }
      },
      "execution_count": 319,
      "outputs": [
        {
          "output_type": "execute_result",
          "data": {
            "text/plain": [
              "128"
            ]
          },
          "metadata": {},
          "execution_count": 319
        }
      ]
    },
    {
      "cell_type": "code",
      "source": [
        ""
      ],
      "metadata": {
        "id": "aX8dMUdxxprb"
      },
      "execution_count": null,
      "outputs": []
    }
  ]
}