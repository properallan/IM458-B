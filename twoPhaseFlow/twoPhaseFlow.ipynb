{
  "nbformat": 4,
  "nbformat_minor": 0,
  "metadata": {
    "colab": {
      "name": "twoPhaseFlow.ipynb",
      "provenance": [],
      "include_colab_link": true
    },
    "kernelspec": {
      "name": "python3",
      "display_name": "Python 3"
    },
    "language_info": {
      "name": "python"
    }
  },
  "cells": [
    {
      "cell_type": "markdown",
      "metadata": {
        "id": "view-in-github",
        "colab_type": "text"
      },
      "source": [
        "<a href=\"https://colab.research.google.com/github/properallan/IM458-B/blob/master/twoPhaseFlow/twoPhaseFlow.ipynb\" target=\"_parent\"><img src=\"https://colab.research.google.com/assets/colab-badge.svg\" alt=\"Open In Colab\"/></a>"
      ]
    },
    {
      "cell_type": "code",
      "source": [
        "! pip install pynverse\n",
        "from scipy.optimize import brentq as root\n",
        "import cmath\n",
        "from pynverse import inversefunc\n",
        "import numpy as np\n",
        "import matplotlib.pyplot as plt\n",
        "\n",
        "tol = 1e-12\n",
        "\n",
        "def diff(f, u, M, h=tol):\n",
        "  # complex-step differentiation\n",
        "  c = complex(u, h)\n",
        "  df = f(c,M).imag/h\n",
        "  return df"
      ],
      "metadata": {
        "colab": {
          "base_uri": "https://localhost:8080/"
        },
        "id": "NACRT5_wd68I",
        "outputId": "2e3910c6-9e6b-48e2-d2a5-d6a7bde7e8f3"
      },
      "execution_count": 2,
      "outputs": [
        {
          "output_type": "stream",
          "name": "stdout",
          "text": [
            "Collecting pynverse\n",
            "  Downloading pynverse-0.1.4.4.tar.gz (8.7 kB)\n",
            "Requirement already satisfied: scipy>=0.11 in /usr/local/lib/python3.7/dist-packages (from pynverse) (1.4.1)\n",
            "Requirement already satisfied: numpy>=1.6 in /usr/local/lib/python3.7/dist-packages (from pynverse) (1.21.5)\n",
            "Building wheels for collected packages: pynverse\n",
            "  Building wheel for pynverse (setup.py) ... \u001b[?25l\u001b[?25hdone\n",
            "  Created wheel for pynverse: filename=pynverse-0.1.4.4-py3-none-any.whl size=6363 sha256=74e1952105de0fdefc5f49ad35df3c222122662b093edb34b5ec0034dda189e5\n",
            "  Stored in directory: /root/.cache/pip/wheels/06/eb/74/006b76fdd8229ed3767fef546c825c2924f1def2d023929d9d\n",
            "Successfully built pynverse\n",
            "Installing collected packages: pynverse\n",
            "Successfully installed pynverse-0.1.4.4\n"
          ]
        }
      ]
    },
    {
      "cell_type": "markdown",
      "source": [
        "# 1D Two-Phase Flow in Porous Media\n",
        "\n",
        "The problem is equivalent to an initial value problem, governed by a nonlinear PDE such as\n",
        "\n",
        "$$\n",
        "\\frac{\\partial u}{\\partial t}+\\frac{\\partial f(u)}{\\partial x} = 0\n",
        "$$\n",
        "\n",
        "## Non-convex flux function\n",
        "\n",
        "The flux function $f(u)$ dictates the interaction relationship between the fluids. One possible nonlinear model is the Brooks-Corey model\n",
        "\n",
        "$$\n",
        "f_w(u) = \\frac{u^2}{u^2 + \\frac{(1-u)^2}{M}}\n",
        "$$"
      ],
      "metadata": {
        "id": "jJcR1bBgQpij"
      }
    },
    {
      "cell_type": "code",
      "source": [
        "def f_w(u, M):\n",
        "  return u**2/(u**2+(1-u)**2/M)"
      ],
      "metadata": {
        "id": "UaMORhX8Qr34"
      },
      "execution_count": 3,
      "outputs": []
    },
    {
      "cell_type": "markdown",
      "source": [
        ", where $M$ is the ratio of viscosities, $M=\\mu_o/\\mu_w$. The analytical solution is given by\n",
        "\n",
        "$$\n",
        "u(x,t)=\n",
        "\\begin{cases}\n",
        "0, \\qquad & x/t & > & f'_w(u^\\star)\\\\\n",
        "u(x/t), \\qquad & f'_w(u^\\star) & \\ge & x/t &\\ge& f'_w(1) \\\\\n",
        "1, \\qquad &f'_w(1) & > & x/t\n",
        "\\end{cases}\n",
        "$$\n",
        "\n",
        "Differentiating $f_w$ with respect to $u$, yields\n",
        "\n",
        "$$\n",
        "f'_w(u) = -\\frac{2M(u-1)u}{[(M+1)u^2-2u+1]^2}\n",
        "$$\n",
        "\n"
      ],
      "metadata": {
        "id": "vaBxZH0-VoGn"
      }
    },
    {
      "cell_type": "code",
      "source": [
        "def df_w(u, M):\n",
        "  #return diff(f_w, u, M)\n",
        "  return -2*M*(u-1)*u/(((M+1)*u**2-2*u+1)**2)\n",
        "  #return u**2"
      ],
      "metadata": {
        "id": "t0-kdDv5qWw9"
      },
      "execution_count": 4,
      "outputs": []
    },
    {
      "cell_type": "markdown",
      "source": [
        "The shock location $u^\\star$ is obtained from Rankine-Hugoniot condition\n",
        "\n",
        "$$\n",
        "f'_w(u^\\star) = [f_w(u^\\star)-f'_w(0)]/u^\\star\n",
        "$$\n",
        "\n",
        "which was solved numerically by a rootfind *brentq* algorithm. Finally, the function $u(x/t)$ is computed as the inverse function $(f'_w)^{-1}(x/t)$ defined in the closed interval $[u^\\star, 1]$.\n"
      ],
      "metadata": {
        "id": "qyFha8LEqYOB"
      }
    },
    {
      "cell_type": "code",
      "source": [
        "def u_nonconvex(x, t, M):\n",
        "  f = lambda u,M: (f_w(u, M) - f_w(0, M))/(u - 0) - df_w(u, M)\n",
        "  ustar = root(f, 0+tol,1-tol, args=(M))\n",
        "  df_wustar = df_w(ustar, M)\n",
        "  df_w1 = df_w(1, M)\n",
        "  df_w_inv = inversefunc(df_w, domain=[ustar,1], args=(M))\n",
        "\n",
        "  if x/t > df_wustar:\n",
        "    return 0\n",
        "  elif df_wustar >= x/t and x/t >= df_w1:\n",
        "    return float(df_w_inv(x/t))\n",
        "  elif df_w1 >= x/t:\n",
        "    return 1\n",
        "\n",
        "M = 1\n",
        "x = 0\n",
        "t = [0.25, 0.5, 0.75]\n",
        "N = 1000\n",
        "x = np.linspace(0,1,N)\n",
        "\n",
        "u_sol = [np.array([u_nonconvex(xi, ti, M) for xi in x]) for ti in t]\n",
        "\n",
        "fig, ax = plt.subplots(1,3, figsize=(10,3), sharey=True)\n",
        "ax[0].plot(x,u_sol[0])\n",
        "ax[0].set_xlabel(r'x')\n",
        "ax[0].set_ylabel(r'u(x,t)')\n",
        "ax[0].set_title(r't=0.25')\n",
        "\n",
        "ax[1].plot(x,u_sol[1])\n",
        "ax[1].set_xlabel(r'x')\n",
        "ax[1].set_title(r't=0.50')\n",
        "\n",
        "ax[2].plot(x,u_sol[2])\n",
        "ax[2].set_xlabel(r'x')\n",
        "ax[2].set_title(r't=0.75')\n",
        "\n",
        "plt.show()\n"
      ],
      "metadata": {
        "colab": {
          "base_uri": "https://localhost:8080/",
          "height": 241
        },
        "id": "AUzmFC13Vu-d",
        "outputId": "1f2fc666-5d6b-4c74-e0ca-257abdba33d4"
      },
      "execution_count": 5,
      "outputs": [
        {
          "output_type": "display_data",
          "data": {
            "text/plain": [
              "<Figure size 720x216 with 3 Axes>"
            ],
            "image/png": "[encoded data removed]"
          },
          "metadata": {
            "needs_background": "light"
          }
        }
      ]
    },
    {
      "cell_type": "markdown",
      "source": [
        "## Concave flux function\n",
        "\n",
        "The flux function is given by\n",
        "\n",
        "$$\n",
        "f_w(u)=\\frac{u}{u+\\frac{(1-u)}{M}}\n",
        "$$\n",
        "\n",
        "And the PDE has a rarefaction wave solution\n",
        "\n",
        "$$\n",
        "u(x,t)=\n",
        "\\begin{cases}\n",
        "0, \\qquad & x/t & > & M\\\\\n",
        "\\frac{\\sqrt{M\\frac{t}{x}}-1}{M-1}, \\qquad & M & \\ge & x/t &\\ge& 1/M \\\\\n",
        "1, \\qquad &1/M & > & x/t\n",
        "\\end{cases}\n",
        "$$\n",
        "\n",
        "For $M=2$, the solution is"
      ],
      "metadata": {
        "id": "hlC94hw-s09o"
      }
    },
    {
      "cell_type": "code",
      "source": [
        "def u_concave(x, t, M):\n",
        "  if x/t > M:\n",
        "    return 0\n",
        "  elif M >= x/t and x/t >= 1/M:\n",
        "    return (np.sqrt(M*t/x)-1)/(M-1)\n",
        "  elif 1/M >= x/t:\n",
        "    return 1\n",
        "\n",
        "M = 2\n",
        "x = 0\n",
        "t = [0.25, 0.5, 0.75]\n",
        "N = 1000\n",
        "x = np.linspace(0,1,N)\n",
        "\n",
        "u_sol = [np.array([u_concave(xi, ti, M) for xi in x]) for ti in t]\n",
        "\n",
        "fig, ax = plt.subplots(1,3, figsize=(10,3), sharey=True)\n",
        "ax[0].plot(x,u_sol[0])\n",
        "ax[0].set_xlabel(r'x')\n",
        "ax[0].set_ylabel(r'u(x,t)')\n",
        "ax[0].set_title(r't=0.25')\n",
        "\n",
        "ax[1].plot(x,u_sol[1])\n",
        "ax[1].set_xlabel(r'x')\n",
        "ax[1].set_title(r't=0.50')\n",
        "\n",
        "ax[2].plot(x,u_sol[2])\n",
        "ax[2].set_xlabel(r'x')\n",
        "ax[2].set_title(r't=0.75')\n",
        "\n",
        "plt.show()"
      ],
      "metadata": {
        "colab": {
          "base_uri": "https://localhost:8080/",
          "height": 241
        },
        "id": "XFDDMGCnvJ5_",
        "outputId": "981ac49b-d502-45b3-d141-7508d4fa02aa"
      },
      "execution_count": 6,
      "outputs": [
        {
          "output_type": "display_data",
          "data": {
            "text/plain": [
              "<Figure size 720x216 with 3 Axes>"
            ],
            "image/png": "[encoded data removed]"
          },
          "metadata": {
            "needs_background": "light"
          }
        }
      ]
    },
    {
      "cell_type": "markdown",
      "source": [
        "## Convex flux function\n",
        "\n",
        "In the case of a flux function being strictly increasing, or *convex*\n",
        "\n",
        "$$\n",
        "f_w(u)=u^2\n",
        "$$\n",
        "\n",
        "\n",
        ", and if $u_l > u_r$, the solution is a shock wave propagating with speed $\\sigma$, from Rankine-Hugoniot relation\n",
        "\n",
        "$$\n",
        "\\begin{aligned}\n",
        "\\sigma &= \\frac{f_w(u_l)^2 - f_w(u_r)^2}{u_l-u_r}\\\\\n",
        "\\sigma &= 1\n",
        "\\end{aligned}\n",
        "$$\n",
        "\n",
        "The solution is then\n",
        "\n",
        "$$\n",
        "u(x,t)=\n",
        "\\begin{cases}\n",
        "u_l = 1, \\qquad x/t < \\sigma \\\\\n",
        "u_r = 0, \\qquad x/t > \\sigma\n",
        "\\end{cases}\n",
        "$$"
      ],
      "metadata": {
        "id": "e1MTC2fnvXMq"
      }
    },
    {
      "cell_type": "code",
      "source": [
        "def u_convex(x, t):\n",
        "  if x/t < 1:\n",
        "    return 1\n",
        "  elif x/t > 1:\n",
        "    return 0\n",
        "\n",
        "t = [0.25, 0.5, 0.75]\n",
        "N = 1000\n",
        "x = np.linspace(0,1,N)\n",
        "\n",
        "u_sol = [np.array([u_convex(xi, ti) for xi in x]) for ti in t]\n",
        "\n",
        "fig, ax = plt.subplots(1,3, figsize=(10,3), sharey=True)\n",
        "ax[0].plot(x,u_sol[0])\n",
        "ax[0].set_xlabel(r'x')\n",
        "ax[0].set_ylabel(r'u(x,t)')\n",
        "ax[0].set_title(r't=0.25')\n",
        "\n",
        "ax[1].plot(x,u_sol[1])\n",
        "ax[1].set_xlabel(r'x')\n",
        "ax[1].set_title(r't=0.50')\n",
        "\n",
        "ax[2].plot(x,u_sol[2])\n",
        "ax[2].set_xlabel(r'x')\n",
        "ax[2].set_title(r't=0.75')\n",
        "\n",
        "plt.show()"
      ],
      "metadata": {
        "id": "gpfohTXo_OCp",
        "colab": {
          "base_uri": "https://localhost:8080/",
          "height": 241
        },
        "outputId": "34e44f2a-e0ed-4226-d4dd-e589516c93d4"
      },
      "execution_count": 7,
      "outputs": [
        {
          "output_type": "display_data",
          "data": {
            "text/plain": [
              "<Figure size 720x216 with 3 Axes>"
            ],
            "image/png": "[encoded data removed]"
          },
          "metadata": {
            "needs_background": "light"
          }
        }
      ]
    },
    {
      "cell_type": "code",
      "source": [
        ""
      ],
      "metadata": {
        "id": "jH_UUVHSAHet"
      },
      "execution_count": 6,
      "outputs": []
    }
  ]
}