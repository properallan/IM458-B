{
  "cells": [
    {
      "cell_type": "markdown",
      "metadata": {
        "id": "00MTYQqB88cA"
      },
      "source": [
        "---\n",
        "bibliography: ../references/references.bib\n",
        "csl: ../references/abnt.csl\n",
        "#tableEqns: true\n",
        "---\n",
        "\n",
        "# SINDy\n",
        "\n",
        "Uma vez que os valores de uma grandeza qualquer sejam conhecidos para determinados instantes de tempo $t$, o método *Sparse Identification of Nonlinear Dynamic Systems (SINDy)* [@brunton2016] permite determinar, à partir dos dados os operadores $f$ que determinam a dinâmica do sistema, descrita por \n",
        "\n",
        "$$\n",
        "\\frac{d}{dt}x(t)=f(x(t)) \\qquad (1)\n",
        "$$\n",
        "\n",
        "A principal hipótese por trás do método é que o sistema dinâmica é esparso no espaço de funções de base $f_i$ proposto, por exemplo, o sistema dinâmico descrito por\n",
        "\n",
        "$$\n",
        "\\frac{d}{dt}x=f(t)=\\begin{bmatrix} f_1(x) \\\\ f_2(x) \\end{bmatrix} =\n",
        "\\begin{bmatrix} 1-x_1+3x_1x_2 \\\\ x_2^2-5x_1^3 \\end{bmatrix}\n",
        "$$\n",
        "\n",
        "é esparso em um conjunto de funções de bases polinomiais de duas variáveis, uma vez que para funções de base $f_k=\\sum_{i=0}^\\infty\\sum_{j=0}^\\infty a_{i,j}x_1^ix_2^j$ um número pequeno de coeficientes $a_{i,j}$ serão diferentes de $0$. Se o operador $f(x)$ for representado por\n",
        "\n",
        "$$\n",
        "f(x)=\\sum_{k=1}^p \\theta_k(x)\\xi_k\n",
        "$$\n",
        "\n",
        ", então  a dinâmica do sistema descrito pela equação (1) pode ser representado de maneira aproximada por \n",
        "\n",
        "$$\n",
        "\\dot{X} \\approx \\Theta(X)\\Xi\n",
        "$$\n",
        "\n",
        "Onde $X$ é a matrix de $snapshots$\n",
        "\n",
        "$$\n",
        "X = \\begin{bmatrix}\n",
        "x_1(t_1) & x_2(t_1) & \\dots & x_n(t_1) \\\\\n",
        "x_1(t_2) & x_2(t_2) & \\dots & x_n(t_2) \\\\\n",
        "\\vdots & \\vdots & & \\vdots \\\\\n",
        "x_1(t_n) & x_2(t_n) & \\dots & x_n(t_n) \n",
        "\\end{bmatrix}\n",
        "$$\n",
        "\n",
        "A matrix $\\Theta(X)$ é uma matrix de funções de base aplicadas aos dados $X$\n",
        "\n",
        "$$\n",
        "\\Theta(X) = \\begin{bmatrix}\n",
        "\\vert & \\vert & \\vert & \\vert \\\\\n",
        "\\theta_1(X) & \\theta_2(X) & \\dots & \\theta_l(X)  \\\\\n",
        "\\vert & \\vert & \\vert & \\vert\n",
        "\\end{bmatrix}\n",
        "$$\n",
        "\n",
        "As formas das funções de bases são determinadas pela escolha das `function libraries`. A busca é pelo conjunto de vetores de coeficientes esparsos $\\xi_i$ com o maior número possível de coeficientes nulos.\n",
        "\n",
        "$$\n",
        "\\Xi = \\begin{bmatrix}\n",
        "\\vert & \\vert & \\vert& \\vert\\\\\n",
        "\\xi_1 & \\xi_2 & \\dots & \\xi_n\\\\\n",
        "\\vert & \\vert& \\vert& \\vert\\\\\n",
        "\\end{bmatrix}\n",
        "$$\n",
        "\n",
        "Os coeficientes do vetor $\\xi_k$ são determinados por algum dos algoritmos de regressão esparsa\n",
        "\n",
        "$$\n",
        "\\xi_k = argmmin || \\dot{X}_k-\\Theta{(X)} \\xi_k'||_2 + \\lambda || \\xi_k'||_1\n",
        "$$\n",
        "\n",
        "# Construindo um modelo pySINDy\n",
        "\n",
        "Os principais dados de entrada para o método SINDy são\n",
        "\n",
        "- Os snapshots $X$\n",
        "  - São fornecidos com uma matrix \n",
        "- As derivadas $\\dot{X}$, podem ser fornecidos no mesmo formato dos *snapshots* ou calculados com a função `psindy.differentiate`. As opções são.\n",
        "  - `FiniteDifference`\n",
        "  - `SINDyDerivative` wrapper para `dxdt` (`finite_difference, savitzky_golay, spectral, spline, trend_filtered, kalman`)\n",
        "  - `SmoothedFiniteDifference`\n",
        "  - `SpectralDerivative`\n",
        "- As funções de base $\\Theta$ , são especificadas no objeto `pysindy.feature_library`.\n",
        "  - `CustomLibrary`\n",
        "    ```python\n",
        "    functions = [lambda x : np.exp(x), lambda x,y : np.sin(x+y)]\n",
        "    lib = CustomLibrary(library_functions=functions)\n",
        "    ```\n",
        "  - `FourierLibrary` - Inclui funções $sin(x), sin(2x), ..., sin(nx)$, até frequências $n$.\n",
        "  - `GeneralizedLibrary` - Agrupa várias bibliotecas.\n",
        "    ```python\n",
        "    functions = [lambda x : np.exp(x), lambda x,y : np.sin(x+y)]  \n",
        "    lib_custom = CustomLibrary(library_functions=functions)\n",
        "    lib_fourier = FourierLibrary()\n",
        "    lib_generalized = GeneralizedLibrary([lib_custom, lib_fourier])\n",
        "    ```\n",
        "  - `IdentityLibrary` - Mapeia todas as variáveis de entrada na saída.\n",
        "  - `PDELibrary` - Funções customizadas com derivadas de ordem arbitrária.\n",
        "  - `PolynomialLibrary` - Funções polinomais.\n",
        "  - `WeakPDELibrary` - As funções são integrais de derivadas das entrada multiplicadas por funções de teste.\n",
        "  - `SINDyPILibrary` - Funções customizadas para os termos em $X$ e $\\dot{X}$.\n",
        "  - `TensoredLibrary` - Produto tensorial entre bibliotecas de funções.\n",
        "- Otimizator, especificado no objeto `pysindy.optimizer`:\n",
        "  - `STLSQ` - Sequentially Thresholded Least Squares algorithm:\n",
        "    $$\n",
        "    || \\dot{X}-\\Theta \\Xi||_2^2 + \\alpha||\\Xi||_2^2\n",
        "    $$\n",
        "    Reference: [@brunton2016]\n",
        "\n",
        "    Pseudocódigo:\n",
        "    ```\n",
        "    # Resolve o Sistema usando Mínimos Quadrados\n",
        "    Xi = Theta/dxdt\n",
        "\n",
        "    for k in (1...10)\n",
        "      # Encontra Coeficientes Pequenos\n",
        "      small_idx = (abs(Xi) < lambda)\n",
        "      # Promove Esparsidade\n",
        "      Xi(small_idx) = 0\n",
        "      # Resolve o Sistema Regularizado Usando Mínimos Quadrados\n",
        "      for idx = 1...n\n",
        "        big_idx = !small_idx[:,idx]\n",
        "        Xi[big_idx,:] = Theta[:,big_idx]/dXdt[:,idx]\n",
        "    ```\n",
        "\n",
        "  - `SR3` - Sparse Relaxed Regularized:\n",
        "    $$\n",
        "    0.5|| \\dot{X}-\\Theta \\Xi||_2^2 + \\lambda R(u) + (0.5/\\nu)||\\Xi-u||_2^2\n",
        "    $$\n",
        "    References: [@Zheng2019; @Champion2020]\n",
        "\n",
        "  - `FROLS` - Forward Regression Orthogonal Least-Squares:\n",
        "    $$\n",
        "    || \\dot{X}-\\Theta \\Xi||_2^2 + \\alpha||\\Xi||_2^2\n",
        "    $$\n",
        "    Reference: [@Billings2013]\n",
        "\n",
        "  - `SINDy-PI`- SINDy-PI optimizer (base class `SR3`)\n",
        "\n",
        "    $$\n",
        "    0.5|| \\dot{X}-\\Theta \\Xi||_2^2 + \\lambda R(\\Xi)\n",
        "    $$\n",
        "\n",
        "    Reference: [@Kaheman2020]\n",
        "\n",
        "    - `SSR` - Stepwise Sparse Regression\n",
        "    $$\n",
        "    || \\dot{X}-\\Theta \\Xi||_2^2 + \\alpha ||\\Xi||_2^2\n",
        "    $$\n",
        "    Reference: [@Boninsegna2018]\n",
        "\n",
        "  - `TrappingSR3` - Trapping Sparse Relaxed Regularized:\n",
        "    $$\n",
        "    0.5||\\dot{X}-\\Theta \\Xi||_2^2 + \\lambda R(\\Xi) + 0.5 ||P\\Xi - A||_2^2/\\eta + \\delta_0(C\\Xi-d)+\\delta_{\\Lambda}(A)\n",
        "    $$\n",
        "    ou\n",
        "    $$\n",
        "    0.5||\\dot{X}-\\Theta \\Xi||_2^2 + \\lambda R(\\Xi) + \\delta_0(C\\Xi-d)+0.5 \\cdot \\text{maximumeingenvalue} (A)\n",
        "    $$\n",
        "    References: [@Kaptanoglu2021; @Zheng2019; @Champion2020]\n"
      ]
    },
    {
      "cell_type": "markdown",
      "metadata": {},
      "source": [
        "Suponhamos um modelo dinâmico governado pelas EDOs\n",
        "\n",
        "$$\n",
        "\\frac{d}{dt}\\begin{bmatrix} x \\\\ y \\end{bmatrix} = \\begin{bmatrix} -2x \\\\ y \\end{bmatrix}  \n",
        "$$\n",
        "\n",
        ", cuja solução analítica é $x(t)=x_0e^{-2t}$ e $y(t)=y_0e^{t}$. Vamos mostrar como o SINDy obtém as equações da dinâmica do sistema, a partir apenas de um conjunto de dados coletados no tempo."
      ]
    },
    {
      "cell_type": "code",
      "execution_count": 1,
      "metadata": {},
      "outputs": [],
      "source": [
        "import numpy as np\n",
        "import pysindy as ps\n",
        "\n",
        "# domínio temporal \n",
        "t = np.linspace(0,1,100)\n",
        "\n",
        "# condições iniciais\n",
        "x0 = 3\n",
        "y0 = 0.5\n",
        "\n",
        "# solução espaco-temporal\n",
        "x = x0 * np.exp(-2 * t)\n",
        "y = y0 * np.exp(t)\n",
        "\n",
        "# snapshots\n",
        "X = np.stack((x,y), axis=1)"
      ]
    },
    {
      "cell_type": "code",
      "execution_count": 2,
      "metadata": {},
      "outputs": [],
      "source": [
        "# derivadas das snapshots\n",
        "differentiation_method = ps.FiniteDifference(order=2)"
      ]
    },
    {
      "cell_type": "code",
      "execution_count": 3,
      "metadata": {},
      "outputs": [],
      "source": [
        "# biblioteca de funções candidatas\n",
        "feature_library = ps.PolynomialLibrary(degree=3)"
      ]
    },
    {
      "cell_type": "code",
      "execution_count": 4,
      "metadata": {},
      "outputs": [],
      "source": [
        "# otimizador da função  custo\n",
        "optimizer = ps.STLSQ(threshold=0.2)"
      ]
    },
    {
      "cell_type": "code",
      "execution_count": 5,
      "metadata": {},
      "outputs": [],
      "source": [
        "# classe abstrada para o modelo SINDy\n",
        "model = ps.SINDy(\n",
        "    differentiation_method=differentiation_method,\n",
        "    feature_library=feature_library,\n",
        "    optimizer=optimizer,\n",
        "    feature_names=[\"x\", \"y\"]\n",
        ")"
      ]
    },
    {
      "cell_type": "code",
      "execution_count": 6,
      "metadata": {},
      "outputs": [
        {
          "data": {
            "text/plain": [
              "SINDy(differentiation_method=FiniteDifference(),\n",
              "      feature_library=PolynomialLibrary(degree=3), feature_names=['x', 'y'],\n",
              "      optimizer=STLSQ(threshold=0.2))"
            ]
          },
          "execution_count": 6,
          "metadata": {},
          "output_type": "execute_result"
        }
      ],
      "source": [
        "# aplica o otimizador para encontrar os coeficientes Xi\n",
        "model.fit(X, t=t)"
      ]
    },
    {
      "cell_type": "code",
      "execution_count": 7,
      "metadata": {},
      "outputs": [
        {
          "name": "stdout",
          "output_type": "stream",
          "text": [
            "(x)' = -2.000 x\n",
            "(y)' = 1.000 y\n"
          ]
        }
      ],
      "source": [
        "# modelo identificado\n",
        "model.print()"
      ]
    },
    {
      "cell_type": "code",
      "execution_count": 8,
      "metadata": {},
      "outputs": [],
      "source": [
        "# novas condições de contorno\n",
        "x0 = 6\n",
        "y0 = -0.1\n",
        "\n",
        "# solução analalítica\n",
        "t_test = np.linspace(0, 1, 100)\n",
        "x_test = x0 * np.exp(-2 * t_test)\n",
        "y_test = y0 * np.exp(t_test)\n",
        "\n",
        "# integração do modelo indentificado pelo SINDy\n",
        "sim = model.simulate([x0, y0], t=t_test)"
      ]
    },
    {
      "cell_type": "code",
      "execution_count": 9,
      "metadata": {},
      "outputs": [
        {
          "data": {
            "image/png": "[encoded data removed]",
            "text/plain": [
              "<Figure size 432x288 with 1 Axes>"
            ]
          },
          "metadata": {
            "needs_background": "light"
          },
          "output_type": "display_data"
        }
      ],
      "source": [
        "import matplotlib.pyplot as plt\n",
        "\n",
        "plt.figure()\n",
        "plt.plot(x0, y0, \"ro\", label=\"Initial condition\", alpha=0.6, markersize=8)\n",
        "plt.plot(x_test, y_test, \"b\", label=\"Exact solution\", alpha=0.4, linewidth=4)\n",
        "plt.plot(sim[:, 0], sim[:, 1], \"k--\", label=\"SINDy model\", linewidth=3)\n",
        "plt.xlabel(\"x\")\n",
        "plt.ylabel(\"y\")\n",
        "plt.legend()\n",
        "plt.show()"
      ]
    },
    {
      "cell_type": "code",
      "execution_count": 10,
      "metadata": {},
      "outputs": [
        {
          "name": "stdout",
          "output_type": "stream",
          "text": [
            "(x)' = 0.772 sin(1 x) + 2.097 cos(1 x) + -2.298 sin(1 y) + -3.115 cos(1 y)\n",
            "(y)' = 1.362 sin(1 y) + -0.222 cos(1 y)\n"
          ]
        }
      ],
      "source": [
        "# funções seno \n",
        "feature_library = ps.FourierLibrary()\n",
        "\n",
        "model = ps.SINDy(\n",
        "    differentiation_method=differentiation_method,\n",
        "    feature_library=feature_library,\n",
        "    optimizer=optimizer,\n",
        "    feature_names=[\"x\", \"y\"]\n",
        ")\n",
        "\n",
        "# modelo identificado\n",
        "model.fit(X, t=t)\n",
        "model.print()"
      ]
    },
    {
      "cell_type": "code",
      "execution_count": 11,
      "metadata": {},
      "outputs": [
        {
          "data": {
            "image/png": "[encoded data removed]",
            "text/plain": [
              "<Figure size 432x288 with 1 Axes>"
            ]
          },
          "metadata": {
            "needs_background": "light"
          },
          "output_type": "display_data"
        }
      ],
      "source": [
        "sim = model.simulate([x0, y0], t=t_test)\n",
        "\n",
        "plt.figure()\n",
        "plt.plot(x0, y0, \"ro\", label=\"Initial condition\", alpha=0.6, markersize=8)\n",
        "plt.plot(x_test, y_test, \"b\", label=\"Exact solution\", alpha=0.4, linewidth=4)\n",
        "plt.plot(sim[:, 0], sim[:, 1], \"k--\", label=\"SINDy model\", linewidth=3)\n",
        "plt.xlabel(\"x\")\n",
        "plt.ylabel(\"y\")\n",
        "plt.legend()\n",
        "plt.show()"
      ]
    },
    {
      "cell_type": "code",
      "execution_count": null,
      "metadata": {},
      "outputs": [],
      "source": []
    }
  ],
  "metadata": {
    "colab": {
      "name": "introSINDy.ipynb",
      "provenance": []
    },
    "interpreter": {
      "hash": "31f2aee4e71d21fbe5cf8b01ff0e069b9275f58929596ceb00d14d90e3e16cd6"
    },
    "kernelspec": {
      "display_name": "Python 3.8.10 64-bit",
      "language": "python",
      "name": "python3"
    },
    "language_info": {
      "codemirror_mode": {
        "name": "ipython",
        "version": 3
      },
      "file_extension": ".py",
      "mimetype": "text/x-python",
      "name": "python",
      "nbconvert_exporter": "python",
      "pygments_lexer": "ipython3",
      "version": "3.8.10"
    },
    "orig_nbformat": 4
  },
  "nbformat": 4,
  "nbformat_minor": 0
}
