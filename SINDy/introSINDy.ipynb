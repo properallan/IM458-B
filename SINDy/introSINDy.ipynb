{
  "cells": [
    {
      "cell_type": "markdown",
      "metadata": {
        "id": "00MTYQqB88cA"
      },
      "source": [
        "---\n",
        "bibliography: ../references/references.bib\n",
        "csl: ../references/abnt.csl\n",
        "---\n",
        "\n",
        "# SINDy\n",
        "\n",
        "Sparse Identification of Nonlinear Dynamic Systems (SINDy) [@brunton2016]"
      ]
    },
    {
      "cell_type": "code",
      "execution_count": null,
      "metadata": {
        "id": "YThsKyEP88cG"
      },
      "outputs": [],
      "source": [
        "sys.path.insert(0, '../')\n",
        "import numpy as np\n",
        "from twoPhaseFlow import twoPhaseFlow as tpf\n",
        "import matplotlib.pyplot as plt\n",
        "import pysindy as ps\n",
        "from scipy.io import loadmat"
      ]
    },
    {
      "cell_type": "code",
      "execution_count": null,
      "metadata": {
        "id": "WGgEIBG-88cK"
      },
      "outputs": [],
      "source": [
        "N = 100\n",
        "x = np.linspace(0,1,N)\n",
        "Nt = 100\n",
        "t = np.linspace(0,1,Nt)\n",
        "M = 1\n",
        "\n",
        "u = tpf.u_solve(tpf.u_convex, x, t, M)"
      ]
    },
    {
      "cell_type": "code",
      "execution_count": null,
      "metadata": {
        "id": "YGauOoFu88cM",
        "outputId": "ed466ad0-d73d-4a2d-e99d-1a29d0ca87fc"
      },
      "outputs": [
        {
          "data": {
            "image/png": "[encoded data removed]",
            "text/plain": [
              "<Figure size 720x288 with 1 Axes>"
            ]
          },
          "metadata": {
            "needs_background": "light"
          },
          "output_type": "display_data"
        }
      ],
      "source": [
        "# Plot u and u_dot\n",
        "plt.figure(figsize=(10, 4))\n",
        "plt.subplot(1, 2, 1)\n",
        "plt.pcolormesh(t, x, u)\n",
        "plt.xlabel('t', fontsize=16)\n",
        "plt.ylabel('x', fontsize=16)\n",
        "plt.title(r'$u(x, t)$', fontsize=16)\n",
        "\n",
        "u = u.reshape(len(x), len(t), 1)\n"
      ]
    },
    {
      "cell_type": "code",
      "execution_count": null,
      "metadata": {
        "id": "bnSpK__688cO",
        "outputId": "381ffa74-a43f-48f0-9c62-a528e2e79a93"
      },
      "outputs": [
        {
          "name": "stdout",
          "output_type": "stream",
          "text": [
            "SSR model: \n",
            "(u)' = 0.125 u + -0.350 uu + -0.259 u_1 + -0.010 uu_1 + -0.640 uuu_1\n"
          ]
        }
      ],
      "source": [
        "library_functions = [lambda x: x, lambda x: x*x]\n",
        "library_functions_names = [lambda x: x, lambda x: x + x]\n",
        "pde_lib = ps.PDELibrary(\n",
        "    library_functions = library_functions,\n",
        "    function_names = library_functions_names,\n",
        "    derivative_order = 1,\n",
        "    spatial_grid = x, \n",
        "    is_uniform=True\n",
        ")\n",
        "pde_opt = ps.STLSQ(threshold=30, normalize_columns=True)\n",
        "\n",
        "model = ps.SINDy(\n",
        "    optimizer=pde_opt,\n",
        "    feature_library=pde_lib,\n",
        "    feature_names=['u']\n",
        ")\n",
        "dt = t[1]-t[0]\n",
        "u_dot = ps.FiniteDifference(axis=1)._differentiate(u, t=dt)\n",
        "\n",
        "print('SSR model: ')\n",
        "optimizer = ps.SSR(normalize_columns=True, kappa=5e-3)\n",
        "model = ps.SINDy(feature_library=pde_lib, feature_names=['u'], optimizer=optimizer)\n",
        "model.fit(u, t=dt)\n",
        "model.print()\n",
        "\n"
      ]
    }
  ],
  "metadata": {
    "interpreter": {
      "hash": "31f2aee4e71d21fbe5cf8b01ff0e069b9275f58929596ceb00d14d90e3e16cd6"
    },
    "kernelspec": {
      "display_name": "Python 3.8.10 64-bit",
      "language": "python",
      "name": "python3"
    },
    "language_info": {
      "codemirror_mode": {
        "name": "ipython",
        "version": 3
      },
      "file_extension": ".py",
      "mimetype": "text/x-python",
      "name": "python",
      "nbconvert_exporter": "python",
      "pygments_lexer": "ipython3",
      "version": "3.8.10"
    },
    "orig_nbformat": 4,
    "colab": {
      "name": "introSINDy.ipynb",
      "provenance": []
    }
  },
  "nbformat": 4,
  "nbformat_minor": 0
}