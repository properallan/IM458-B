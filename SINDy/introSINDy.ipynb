{
  "cells": [
    {
      "cell_type": "markdown",
      "metadata": {
        "id": "00MTYQqB88cA"
      },
      "source": [
        "---\n",
        "bibliography: ../references/references.bib\n",
        "csl: ../references/abnt.csl\n",
        "#tableEqns: true\n",
        "---\n",
        "\n",
        "# SINDy\n",
        "\n",
        "Uma vez que os valores de uma grandeza qualquer sejam conhecidos para determinados instantes de tempo $t$, o método *Sparse Identification of Nonlinear Dynamic Systems (SINDy)* [@brunton2016] permite determinar, à partir dos dados os operadores $f$ que determinam a dinâmica do sistema, descrita por \n",
        "\n",
        "$$\n",
        "\\frac{d}{dt}x(t)=f(x(t))\n",
        "$$ {#eq:1}\n",
        "\n",
        "A principal hipótese por trás do método é que o sistema dinâmica é esparso no espaço de funções de base $f_i$ proposto, por exemplo, o sistema dinâmico descrito por\n",
        "\n",
        "$$\n",
        "\\frac{d}{dt}x=f(t)=\\begin{bmatrix} f_1(x) \\\\ f_2(x) \\end{bmatrix} =\n",
        "\\begin{bmatrix} 1-x_1+3x_1x_2 \\\\ x_2^2-5x_1^3 \\end{bmatrix}\n",
        "$$\n",
        "\n",
        "é esparso em um conjunto de funções de bases polinomiais de duas variáveis, uma vez que para funções de base $f_k=\\sum_{i=0}^\\infty\\sum_{j=0}^\\infty a_{i,j}x_1^ix_2^j$ um número pequeno de coeficientes $a_{i,j}$ serão diferentes de $0$.\n",
        "\n",
        "O a dinâmica do sistema (@eq:1) pode ser representado de maneira aproximada por \n",
        "\n",
        "$$\n",
        "\\dot{X} \\approx \\Theta(X)\\Xi\n",
        "$$\n",
        "\n",
        "Onde $X$ é a matrix de $snapshots$\n",
        "\n",
        "$$\n",
        "X = \\begin{bmatrix}\n",
        "x_1(t_1) & x_2(t_1) & \\dots & x_n(t_1) \\\\\n",
        "x_1(t_2) & x_2(t_2) & \\dots & x_n(t_2) \\\\\n",
        "\\vdots & \\vdots & & \\vdots \\\\\n",
        "x_1(t_n) & x_2(t_n) & \\dots & x_n(t_n) \n",
        "\\end{bmatrix}\n",
        "$$\n",
        "\n",
        "A matrix $\\Theta(X)$ é uma matrix de funções de base aplicadas aos dados $X$\n",
        "\n",
        "$$\n",
        "\\Theta(X) = \\begin{bmatrix}\n",
        "\\vert & \\vert & \\vert & \\vert \\\\\n",
        "\\theta_1(X) & \\theta_2(X) & \\dots & \\theta_l(X)  \\\\\n",
        "\\vert & \\vert & \\vert & \\vert\n",
        "\\end{bmatrix}\n",
        "$$\n",
        "\n",
        "As formas das funções de bases são determinadas pela escolha das `function libraries`. A busca é belo conjunto de vetores de coeficientes esparsos $\\xi_i$\n",
        "\n",
        "$$\n",
        "\\Xi = \\begin{bmatrix}\n",
        "\\vert & \\vert & \\vert& \\vert\\\\\n",
        "\\xi_1 & \\xi_2 & \\dots & \\xi_n\\\\\n",
        "\\vert & \\vert& \\vert& \\vert\\\\\n",
        "\\end{bmatrix}\n",
        "$$"
      ]
    },
    {
      "cell_type": "markdown",
      "metadata": {},
      "source": [
        "# Exemplo de Utilização da Biblioteca\n",
        "\n",
        "Os principais dados de entrada para o método SINDy são\n",
        "\n",
        "- Os snapshots $X$\n",
        "  - São fornecidos com uma matrix \n",
        "- As derivadas $\\dot{X}$\n",
        "  - Podem ser fornecidos no mesmo formato dos *snapshots* ou calculados com a função `psindy.differentiate`. As opções são:\n",
        "    - `FiniteDifference`\n",
        "    - `SINDyDerivative` wrapper para `dxdt` (`finite_difference, savitzky_golay, spectral, spline, trend_filtered, kalman`)\n",
        "    - `SmoothedFiniteDifference`\n",
        "    - `SpectralDerivative`\n",
        "- As funções de base $\\Theta$\n",
        "  - São especificadas no objeto `pysindy.feature_library`:\n",
        "    - \n",
        "- Otimizator\n",
        "  - Especificado no objeto `pysindy.optimizer`\n",
        "  "
      ]
    },
    {
      "cell_type": "code",
      "execution_count": 88,
      "metadata": {},
      "outputs": [],
      "source": [
        "import numpy as np\n",
        "import pysindy as ps\n",
        "\n",
        "t = np.linspace(0,1,100)\n",
        "x = 3 * np.exp(-2 * t)\n",
        "y = 0.5 * np.exp(t)\n",
        "X = np.stack((x,y), axis=1)"
      ]
    },
    {
      "cell_type": "code",
      "execution_count": 89,
      "metadata": {},
      "outputs": [],
      "source": [
        "differentiation_method = ps.FiniteDifference(order=2)"
      ]
    },
    {
      "cell_type": "code",
      "execution_count": 90,
      "metadata": {},
      "outputs": [],
      "source": [
        "feature_library = ps.PolynomialLibrary(degree=3)"
      ]
    },
    {
      "cell_type": "code",
      "execution_count": 91,
      "metadata": {},
      "outputs": [],
      "source": [
        "optimizer = ps.STLSQ(threshold=0.2)"
      ]
    },
    {
      "cell_type": "code",
      "execution_count": 92,
      "metadata": {},
      "outputs": [],
      "source": [
        "model = ps.SINDy(\n",
        "    differentiation_method=differentiation_method,\n",
        "    feature_library=feature_library,\n",
        "    optimizer=optimizer,\n",
        "    feature_names=[\"x\", \"y\"]\n",
        ")"
      ]
    },
    {
      "cell_type": "code",
      "execution_count": 93,
      "metadata": {},
      "outputs": [
        {
          "data": {
            "text/plain": [
              "SINDy(differentiation_method=FiniteDifference(),\n",
              "      feature_library=PolynomialLibrary(degree=3), feature_names=['x', 'y'],\n",
              "      optimizer=STLSQ(threshold=0.2))"
            ]
          },
          "execution_count": 93,
          "metadata": {},
          "output_type": "execute_result"
        }
      ],
      "source": [
        "model.fit(X, t=t)"
      ]
    },
    {
      "cell_type": "code",
      "execution_count": 94,
      "metadata": {},
      "outputs": [
        {
          "name": "stdout",
          "output_type": "stream",
          "text": [
            "(x)' = -2.000 x\n",
            "(y)' = 1.000 y\n"
          ]
        }
      ],
      "source": [
        "model.print()"
      ]
    },
    {
      "cell_type": "code",
      "execution_count": 95,
      "metadata": {},
      "outputs": [],
      "source": [
        "x0 = 6\n",
        "y0 = -0.1\n",
        "\n",
        "t_test = np.linspace(0, 1, 100)\n",
        "x_test = x0 * np.exp(-2 * t_test)\n",
        "y_test = y0 * np.exp(t_test)\n",
        "\n",
        "sim = model.simulate([x0, y0], t=t_test)"
      ]
    },
    {
      "cell_type": "code",
      "execution_count": 96,
      "metadata": {},
      "outputs": [
        {
          "data": {
            "image/png": "[encoded data removed]",
            "text/plain": [
              "<Figure size 432x288 with 1 Axes>"
            ]
          },
          "metadata": {
            "needs_background": "light"
          },
          "output_type": "display_data"
        }
      ],
      "source": [
        "import matplotlib.pyplot as plt\n",
        "\n",
        "plt.figure()\n",
        "plt.plot(x0, y0, \"ro\", label=\"Initial condition\", alpha=0.6, markersize=8)\n",
        "plt.plot(x_test, y_test, \"b\", label=\"Exact solution\", alpha=0.4, linewidth=4)\n",
        "plt.plot(sim[:, 0], sim[:, 1], \"k--\", label=\"SINDy model\", linewidth=3)\n",
        "plt.xlabel(\"x\")\n",
        "plt.ylabel(\"y\")\n",
        "plt.legend()\n",
        "plt.show()"
      ]
    },
    {
      "cell_type": "code",
      "execution_count": null,
      "metadata": {
        "id": "YThsKyEP88cG"
      },
      "outputs": [],
      "source": [
        "sys.path.insert(0, '../')\n",
        "import numpy as np\n",
        "from twoPhaseFlow import twoPhaseFlow as tpf\n",
        "import matplotlib.pyplot as plt\n",
        "import pysindy as ps\n",
        "from scipy.io import loadmat"
      ]
    },
    {
      "cell_type": "code",
      "execution_count": null,
      "metadata": {
        "id": "WGgEIBG-88cK"
      },
      "outputs": [],
      "source": [
        "N = 100\n",
        "x = np.linspace(0,1,N)\n",
        "Nt = 100\n",
        "t = np.linspace(0,1,Nt)\n",
        "M = 1\n",
        "\n",
        "u = tpf.u_solve(tpf.u_convex, x, t, M)"
      ]
    },
    {
      "cell_type": "code",
      "execution_count": null,
      "metadata": {
        "id": "YGauOoFu88cM",
        "outputId": "ed466ad0-d73d-4a2d-e99d-1a29d0ca87fc"
      },
      "outputs": [
        {
          "data": {
            "image/png": "[encoded data removed]",
            "text/plain": [
              "<Figure size 720x288 with 1 Axes>"
            ]
          },
          "metadata": {
            "needs_background": "light"
          },
          "output_type": "display_data"
        }
      ],
      "source": [
        "# Plot u and u_dot\n",
        "plt.figure(figsize=(10, 4))\n",
        "plt.subplot(1, 2, 1)\n",
        "plt.pcolormesh(t, x, u)\n",
        "plt.xlabel('t', fontsize=16)\n",
        "plt.ylabel('x', fontsize=16)\n",
        "plt.title(r'$u(x, t)$', fontsize=16)\n",
        "\n",
        "u = u.reshape(len(x), len(t), 1)\n"
      ]
    },
    {
      "cell_type": "code",
      "execution_count": null,
      "metadata": {
        "id": "bnSpK__688cO",
        "outputId": "381ffa74-a43f-48f0-9c62-a528e2e79a93"
      },
      "outputs": [
        {
          "name": "stdout",
          "output_type": "stream",
          "text": [
            "SSR model: \n",
            "(u)' = 0.125 u + -0.350 uu + -0.259 u_1 + -0.010 uu_1 + -0.640 uuu_1\n"
          ]
        }
      ],
      "source": [
        "library_functions = [lambda x: x, lambda x: x*x]\n",
        "library_functions_names = [lambda x: x, lambda x: x + x]\n",
        "pde_lib = ps.PDELibrary(\n",
        "    library_functions = library_functions,\n",
        "    function_names = library_functions_names,\n",
        "    derivative_order = 1,\n",
        "    spatial_grid = x, \n",
        "    is_uniform=True\n",
        ")\n",
        "pde_opt = ps.STLSQ(threshold=30, normalize_columns=True)\n",
        "\n",
        "model = ps.SINDy(\n",
        "    optimizer=pde_opt,\n",
        "    feature_library=pde_lib,\n",
        "    feature_names=['u']\n",
        ")\n",
        "dt = t[1]-t[0]\n",
        "u_dot = ps.FiniteDifference(axis=1)._differentiate(u, t=dt)\n",
        "\n",
        "print('SSR model: ')\n",
        "optimizer = ps.SSR(normalize_columns=True, kappa=5e-3)\n",
        "model = ps.SINDy(feature_library=pde_lib, feature_names=['u'], optimizer=optimizer)\n",
        "model.fit(u, t=dt)\n",
        "model.print()\n",
        "\n"
      ]
    }
  ],
  "metadata": {
    "colab": {
      "name": "introSINDy.ipynb",
      "provenance": []
    },
    "interpreter": {
      "hash": "31f2aee4e71d21fbe5cf8b01ff0e069b9275f58929596ceb00d14d90e3e16cd6"
    },
    "kernelspec": {
      "display_name": "Python 3.8.10 64-bit",
      "language": "python",
      "name": "python3"
    },
    "language_info": {
      "codemirror_mode": {
        "name": "ipython",
        "version": 3
      },
      "file_extension": ".py",
      "mimetype": "text/x-python",
      "name": "python",
      "nbconvert_exporter": "python",
      "pygments_lexer": "ipython3",
      "version": "3.8.10"
    },
    "orig_nbformat": 4
  },
  "nbformat": 4,
  "nbformat_minor": 0
}
